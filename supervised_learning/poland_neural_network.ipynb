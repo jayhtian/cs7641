{
 "cells": [
  {
   "cell_type": "code",
   "execution_count": 5,
   "id": "83ca6b8f",
   "metadata": {},
   "outputs": [],
   "source": [
    "import pandas as pd\n",
    "import numpy as np\n",
    "from io import StringIO\n",
    "from classes import BalancedUndersamplingShuffle, balanced_sampling\n",
    "from helpers import plot_learning_curve, plot_validation_curve, fit_and_score_pipeline\n",
    "from sklearn.neural_network import MLPClassifier\n",
    "from sklearn.model_selection import ShuffleSplit, StratifiedKFold\n",
    "from sklearn.metrics import check_scoring\n",
    "from sklearn.model_selection._validation import _fit_and_score\n",
    "from sklearn.model_selection import train_test_split\n",
    "from sklearn.pipeline import make_pipeline\n",
    "from sklearn.preprocessing import StandardScaler, LabelEncoder\n",
    "\n",
    "from sklearn.metrics import fbeta_score, make_scorer"
   ]
  },
  {
   "cell_type": "code",
   "execution_count": 2,
   "id": "bccd84aa",
   "metadata": {},
   "outputs": [
    {
     "name": "stdout",
     "output_type": "stream",
     "text": [
      "(7027, 65)\n",
      "(10173, 65)\n",
      "(10503, 65)\n",
      "(9792, 65)\n",
      "(5910, 65)\n"
     ]
    }
   ],
   "source": [
    "from scipy.io import arff\n",
    "\n",
    "with open('1year.arff','r') as f:\n",
    "    data1, meta1 = arff.loadarff(f)\n",
    "    data1 = np.asarray(data1.tolist(), dtype=np.float32)\n",
    "    print(data1.shape)\n",
    "\n",
    "with open('2year.arff','r') as f:\n",
    "    data2, meta2 = arff.loadarff(f)\n",
    "    data2 = np.asarray(data2.tolist(), dtype=np.float32)\n",
    "    print(data2.shape)\n",
    "\n",
    "with open('3year.arff','r') as f:\n",
    "    data3, meta3 = arff.loadarff(f)\n",
    "    data3 = np.asarray(data3.tolist(), dtype=np.float32)\n",
    "    print(data3.shape)\n",
    "\n",
    "with open('4year.arff','r') as f:\n",
    "    data4, meta4 = arff.loadarff(f)\n",
    "    data4 = np.asarray(data4.tolist(), dtype=np.float32)\n",
    "    print(data4.shape)\n",
    "\n",
    "with open('5year.arff','r') as f:\n",
    "    data5, meta5 = arff.loadarff(f)\n",
    "    data5 = np.asarray(data5.tolist(), dtype=np.float32)\n",
    "    print(data5.shape)\n"
   ]
  },
  {
   "cell_type": "code",
   "execution_count": 43,
   "id": "e694c54a",
   "metadata": {},
   "outputs": [
    {
     "name": "stdout",
     "output_type": "stream",
     "text": [
      "[0. 0. 0. ... 1. 1. 1.]\n",
      "data.shape=(43405, 65)\n",
      "a=0.10662111516202229, r=3, gamma=19.758010521281683\n",
      "X.shape=(8362, 64), y.shape=(8362,)\n"
     ]
    }
   ],
   "source": [
    "data = np.concatenate([data1, data2, data3, data4, data5], axis=0)\n",
    "data[np.isnan(data)] = 0\n",
    "\n",
    "\n",
    "# data = data[~np.isnan(data).any(axis=1)]\n",
    "print(data[:,-1])\n",
    "\n",
    "print(f'data.shape={data.shape}')\n",
    "\n",
    "X, y = data[:,:-1], data[:, -1]\n",
    "X, y, idx = balanced_sampling(X, y, r = 3, random_state=42)\n",
    "\n",
    "# label_encoder = LabelEncoder()\n",
    "# y = label_encoder.fit_transform(y.astype(str))\n",
    "\n",
    "X_train, X_test, y_train, y_test = train_test_split(X, y, test_size=0.3, random_state=42, stratify=y)\n",
    "\n",
    "\n",
    "print(f'X.shape={X.shape}, y.shape={y.shape}')"
   ]
  },
  {
   "cell_type": "markdown",
   "id": "ae04edeb",
   "metadata": {},
   "source": [
    "# Try naive fit"
   ]
  },
  {
   "cell_type": "code",
   "execution_count": 15,
   "id": "c6230ad2",
   "metadata": {},
   "outputs": [
    {
     "name": "stderr",
     "output_type": "stream",
     "text": [
      "/home/jay/.virtualenv/cs7641-sl/lib/python3.9/site-packages/sklearn/utils/extmath.py:152: RuntimeWarning: overflow encountered in matmul\n",
      "  ret = a @ b\n",
      "/home/jay/.virtualenv/cs7641-sl/lib/python3.9/site-packages/sklearn/utils/extmath.py:152: RuntimeWarning: invalid value encountered in matmul\n",
      "  ret = a @ b\n",
      "/home/jay/.virtualenv/cs7641-sl/lib/python3.9/site-packages/sklearn/neural_network/_multilayer_perceptron.py:614: ConvergenceWarning: Stochastic Optimizer: Maximum iterations (1000) reached and the optimization hasn't converged yet.\n",
      "  warnings.warn(\n"
     ]
    },
    {
     "data": {
      "text/plain": [
       "0.7418032786885246"
      ]
     },
     "execution_count": 15,
     "metadata": {},
     "output_type": "execute_result"
    }
   ],
   "source": [
    "# Naive fit doesn't converge\n",
    "\n",
    "_X_train, _X_test, _y_train, _y_test = train_test_split(X_train, y_train, random_state=42)\n",
    "classifier = MLPClassifier(solver='sgd', alpha=1e-2, hidden_layer_sizes=10, random_state=0, max_iter=1000)\n",
    "classifier.fit(_X_train, _y_train)\n",
    "classifier.score(_X_test, _y_test)"
   ]
  },
  {
   "cell_type": "code",
   "execution_count": 16,
   "id": "76e4b2e0",
   "metadata": {},
   "outputs": [
    {
     "data": {
      "text/plain": [
       "0.7572738142686329"
      ]
     },
     "execution_count": 16,
     "metadata": {},
     "output_type": "execute_result"
    }
   ],
   "source": [
    "# normalizing data with pipeline to try to get it to converge\n",
    "\n",
    "classifier = MLPClassifier(solver='sgd', alpha=1e-2, hidden_layer_sizes=10, random_state=0, max_iter=1000)\n",
    "\n",
    "pipe = make_pipeline(StandardScaler(), classifier)\n",
    "\n",
    "pipe.fit(_X_train, _y_train)  # apply scaling on training data\n",
    "scorer = check_scoring(pipe, scoring='accuracy')\n",
    "scorer(pipe, X_test, y_test)\n"
   ]
  },
  {
   "cell_type": "markdown",
   "id": "3487b5a7",
   "metadata": {},
   "source": [
    "# Tuning Hyperparameters"
   ]
  },
  {
   "cell_type": "code",
   "execution_count": null,
   "id": "16a6f144",
   "metadata": {},
   "outputs": [],
   "source": [
    "# https://stats.stackexchange.com/questions/181/how-to-choose-the-number-of-hidden-layers-and-nodes-in-a-feedforward-neural-netw"
   ]
  },
  {
   "cell_type": "markdown",
   "id": "7378d829",
   "metadata": {},
   "source": [
    "### hidden_layer_sizes"
   ]
  },
  {
   "cell_type": "code",
   "execution_count": 29,
   "id": "65e343f6",
   "metadata": {
    "scrolled": true
   },
   "outputs": [
    {
     "name": "stdout",
     "output_type": "stream",
     "text": [
      "(5267, 64) (5267,) (586, 64) (586,)\n",
      "(5267, 64) (5267,) (586, 64) (586,)\n",
      "(5267, 64) (5267,) (586, 64) (586,)\n",
      "(5267, 64) (5267,) (586, 64) (586,)\n",
      "(5267, 64) (5267,) (586, 64) (586,)\n",
      "(5267, 64) (5267,) (586, 64) (586,)\n",
      "(5267, 64) (5267,) (586, 64) (586,)\n",
      "(5267, 64) (5267,) (586, 64) (586,)\n",
      "(5267, 64) (5267,) (586, 64) (586,)\n",
      "(5267, 64) (5267,) (586, 64) (586,)\n"
     ]
    }
   ],
   "source": [
    "# optimize hidden_layer_sizes\n",
    "param_range = range(1, 200, 20)\n",
    "\n",
    "results = []\n",
    "scoring = 'recall'\n",
    "for i in param_range:\n",
    "    classifier = MLPClassifier(solver='sgd', hidden_layer_sizes=(i,), alpha=1e-2, random_state=0, max_iter=1000)\n",
    "    cv = StratifiedKFold(n_splits=10, shuffle=True, random_state=0)\n",
    "    train_score, test_score, pipe = fit_and_score_pipeline(classifier, X_train, y_train, cv=cv, scoring=scoring)\n",
    "    results.append((i, train_score, test_score))\n"
   ]
  },
  {
   "cell_type": "code",
   "execution_count": 30,
   "id": "6810e322",
   "metadata": {},
   "outputs": [
    {
     "name": "stdout",
     "output_type": "stream",
     "text": [
      "[[1.00000000e+00 0.00000000e+00 0.00000000e+00]\n",
      " [2.10000000e+01 9.34650456e-02 1.02040816e-01]\n",
      " [4.10000000e+01 1.01823708e-01 1.22448980e-01]\n",
      " [6.10000000e+01 1.04863222e-01 1.08843537e-01]\n",
      " [8.10000000e+01 8.66261398e-02 1.15646259e-01]\n",
      " [1.01000000e+02 1.04103343e-01 1.15646259e-01]\n",
      " [1.21000000e+02 1.05623100e-01 1.15646259e-01]\n",
      " [1.41000000e+02 9.42249240e-02 1.08843537e-01]\n",
      " [1.61000000e+02 1.06382979e-01 1.15646259e-01]\n",
      " [1.81000000e+02 1.17021277e-01 1.15646259e-01]]\n"
     ]
    },
    {
     "data": {
      "text/plain": [
       "[<matplotlib.lines.Line2D at 0x7fe850decee0>]"
      ]
     },
     "execution_count": 30,
     "metadata": {},
     "output_type": "execute_result"
    },
    {
     "data": {
      "image/png": "[encoded data removed]",
      "text/plain": [
       "<Figure size 432x288 with 1 Axes>"
      ]
     },
     "metadata": {
      "needs_background": "light"
     },
     "output_type": "display_data"
    }
   ],
   "source": [
    "results = np.array(results)\n",
    "print(results)\n",
    "\n",
    "import matplotlib.pyplot as plt\n",
    "plt.plot(results[:, 0], results[:, 1])\n",
    "plt.plot(results[:, 0], results[:, 2])"
   ]
  },
  {
   "cell_type": "code",
   "execution_count": 46,
   "id": "d36e1cad",
   "metadata": {},
   "outputs": [
    {
     "name": "stdout",
     "output_type": "stream",
     "text": [
      "(5267, 64) (5267,) (586, 64) (586,)\n",
      "(5267, 64) (5267,) (586, 64) (586,)\n",
      "(5267, 64) (5267,) (586, 64) (586,)\n",
      "(5267, 64) (5267,) (586, 64) (586,)\n",
      "(5267, 64) (5267,) (586, 64) (586,)\n",
      "(5267, 64) (5267,) (586, 64) (586,)\n",
      "(5267, 64) (5267,) (586, 64) (586,)\n",
      "(5267, 64) (5267,) (586, 64) (586,)\n",
      "(5267, 64) (5267,) (586, 64) (586,)\n",
      "(5267, 64) (5267,) (586, 64) (586,)\n",
      "(5267, 64) (5267,) (586, 64) (586,)\n",
      "(5267, 64) (5267,) (586, 64) (586,)\n",
      "(5267, 64) (5267,) (586, 64) (586,)\n",
      "(5267, 64) (5267,) (586, 64) (586,)\n",
      "(5267, 64) (5267,) (586, 64) (586,)\n",
      "(5267, 64) (5267,) (586, 64) (586,)\n",
      "(5267, 64) (5267,) (586, 64) (586,)\n",
      "(5267, 64) (5267,) (586, 64) (586,)\n",
      "(5267, 64) (5267,) (586, 64) (586,)\n",
      "(5267, 64) (5267,) (586, 64) (586,)\n"
     ]
    }
   ],
   "source": [
    "# optimize hidden_layer_sizes\n",
    "param_range = range(1, 1000, 50)\n",
    "\n",
    "results = []\n",
    "scoring = 'recall'\n",
    "for i in param_range:\n",
    "    classifier = MLPClassifier(solver='sgd', hidden_layer_sizes=(i,), alpha=1e-2, random_state=0, max_iter=1000)\n",
    "    cv = StratifiedKFold(n_splits=10, shuffle=True, random_state=0)\n",
    "    train_score, test_score, pipe = fit_and_score_pipeline(classifier, X_train, y_train, cv=cv, scoring=scoring)\n",
    "    results.append((i, train_score, test_score))\n"
   ]
  },
  {
   "cell_type": "code",
   "execution_count": 48,
   "id": "6b07f8dd",
   "metadata": {},
   "outputs": [
    {
     "name": "stdout",
     "output_type": "stream",
     "text": [
      "[[1.00000000e+00 0.00000000e+00 0.00000000e+00]\n",
      " [5.10000000e+01 1.21580547e-01 1.29251701e-01]\n",
      " [1.01000000e+02 1.21580547e-01 1.29251701e-01]\n",
      " [1.51000000e+02 1.14741641e-01 1.22448980e-01]\n",
      " [2.01000000e+02 1.14741641e-01 1.22448980e-01]\n",
      " [2.51000000e+02 1.21580547e-01 1.22448980e-01]\n",
      " [3.01000000e+02 1.15501520e-01 1.22448980e-01]\n",
      " [3.51000000e+02 1.19300912e-01 1.15646259e-01]\n",
      " [4.01000000e+02 1.19300912e-01 1.22448980e-01]\n",
      " [4.51000000e+02 1.19300912e-01 1.15646259e-01]\n",
      " [5.01000000e+02 1.19300912e-01 1.36054422e-01]\n",
      " [5.51000000e+02 1.35258359e-01 1.36054422e-01]\n",
      " [6.01000000e+02 1.41337386e-01 1.42857143e-01]\n",
      " [6.51000000e+02 1.27659574e-01 1.36054422e-01]\n",
      " [7.01000000e+02 1.20820669e-01 1.22448980e-01]\n",
      " [7.51000000e+02 1.17021277e-01 1.29251701e-01]\n",
      " [8.01000000e+02 1.44376900e-01 1.49659864e-01]\n",
      " [8.51000000e+02 1.22340426e-01 1.36054422e-01]\n",
      " [9.01000000e+02 1.26899696e-01 1.22448980e-01]\n",
      " [9.51000000e+02 1.30699088e-01 1.36054422e-01]]\n"
     ]
    },
    {
     "data": {
      "text/plain": [
       "[<matplotlib.lines.Line2D at 0x7fe850d7e7c0>]"
      ]
     },
     "execution_count": 48,
     "metadata": {},
     "output_type": "execute_result"
    },
    {
     "data": {
      "image/png": "[encoded data removed]",
      "text/plain": [
       "<Figure size 432x288 with 1 Axes>"
      ]
     },
     "metadata": {
      "needs_background": "light"
     },
     "output_type": "display_data"
    }
   ],
   "source": [
    "results = np.array(results)\n",
    "print(results)\n",
    "\n",
    "import matplotlib.pyplot as plt\n",
    "plt.plot(results[:, 0], results[:, 1])\n",
    "plt.plot(results[:, 0], results[:, 2])"
   ]
  },
  {
   "cell_type": "markdown",
   "id": "9464d309",
   "metadata": {},
   "source": [
    "### regularization alpha"
   ]
  },
  {
   "cell_type": "code",
   "execution_count": 24,
   "id": "d87fad2a",
   "metadata": {},
   "outputs": [
    {
     "name": "stdout",
     "output_type": "stream",
     "text": [
      "(5267, 64) (5267,) (586, 64) (586,)\n",
      "(5267, 64) (5267,) (586, 64) (586,)\n",
      "(5267, 64) (5267,) (586, 64) (586,)\n",
      "(5267, 64) (5267,) (586, 64) (586,)\n",
      "(5267, 64) (5267,) (586, 64) (586,)\n",
      "(5267, 64) (5267,) (586, 64) (586,)\n",
      "(5267, 64) (5267,) (586, 64) (586,)\n",
      "(5267, 64) (5267,) (586, 64) (586,)\n",
      "[(1e-05, 0.0243161094224924, 0.013605442176870748, Pipeline(steps=[('standardscaler', StandardScaler()),\n",
      "                ('mlpclassifier',\n",
      "                 MLPClassifier(hidden_layer_sizes=10, max_iter=1000,\n",
      "                               random_state=0, solver='sgd'))])), (0.0001, 0.0243161094224924, 0.013605442176870748, Pipeline(steps=[('standardscaler', StandardScaler()),\n",
      "                ('mlpclassifier',\n",
      "                 MLPClassifier(hidden_layer_sizes=10, max_iter=1000,\n",
      "                               random_state=0, solver='sgd'))])), (0.001, 0.0243161094224924, 0.013605442176870748, Pipeline(steps=[('standardscaler', StandardScaler()),\n",
      "                ('mlpclassifier',\n",
      "                 MLPClassifier(hidden_layer_sizes=10, max_iter=1000,\n",
      "                               random_state=0, solver='sgd'))])), (0.01, 0.0243161094224924, 0.013605442176870748, Pipeline(steps=[('standardscaler', StandardScaler()),\n",
      "                ('mlpclassifier',\n",
      "                 MLPClassifier(hidden_layer_sizes=10, max_iter=1000,\n",
      "                               random_state=0, solver='sgd'))])), (0.1, 0.0243161094224924, 0.013605442176870748, Pipeline(steps=[('standardscaler', StandardScaler()),\n",
      "                ('mlpclassifier',\n",
      "                 MLPClassifier(hidden_layer_sizes=10, max_iter=1000,\n",
      "                               random_state=0, solver='sgd'))])), (1, 0.0243161094224924, 0.013605442176870748, Pipeline(steps=[('standardscaler', StandardScaler()),\n",
      "                ('mlpclassifier',\n",
      "                 MLPClassifier(hidden_layer_sizes=10, max_iter=1000,\n",
      "                               random_state=0, solver='sgd'))])), (10, 0.0243161094224924, 0.013605442176870748, Pipeline(steps=[('standardscaler', StandardScaler()),\n",
      "                ('mlpclassifier',\n",
      "                 MLPClassifier(hidden_layer_sizes=10, max_iter=1000,\n",
      "                               random_state=0, solver='sgd'))])), (100, 0.0243161094224924, 0.013605442176870748, Pipeline(steps=[('standardscaler', StandardScaler()),\n",
      "                ('mlpclassifier',\n",
      "                 MLPClassifier(hidden_layer_sizes=10, max_iter=1000,\n",
      "                               random_state=0, solver='sgd'))]))]\n"
     ]
    }
   ],
   "source": [
    "# optimize regularization alpha\n",
    "param_range = [1e-5, 1e-4, 1e-3, 1e-2, 1e-1, 1, 10, 100]\n",
    "\n",
    "results = []\n",
    "# scoring = make_scorer(fbeta_score, beta=0.5)\n",
    "scoring = 'precision'\n",
    "for i in param_range:\n",
    "    classifier = MLPClassifier(solver='sgd', hidden_layer_sizes=10, random_state=0, max_iter=1000)\n",
    "    cv = StratifiedKFold(n_splits=10, shuffle=True, random_state=0)\n",
    "    results.append((i, *fit_and_score_pipeline(classifier, X_train, y_train, cv=cv, scoring=scoring)))\n",
    "\n",
    "print(results)"
   ]
  },
  {
   "cell_type": "code",
   "execution_count": 5,
   "id": "ee8c9024",
   "metadata": {},
   "outputs": [
    {
     "name": "stdout",
     "output_type": "stream",
     "text": [
      "(3345, 64) (3345,) (837, 64) (837,)\n",
      "(3345, 64) (3345,) (837, 64) (837,)\n",
      "(3345, 64) (3345,) (837, 64) (837,)\n",
      "(3345, 64) (3345,) (837, 64) (837,)\n",
      "(3345, 64) (3345,) (837, 64) (837,)\n",
      "(3345, 64) (3345,) (837, 64) (837,)\n",
      "(3345, 64) (3345,) (837, 64) (837,)\n",
      "(3345, 64) (3345,) (837, 64) (837,)\n",
      "(3345, 64) (3345,) (837, 64) (837,)\n",
      "(3345, 64) (3345,) (837, 64) (837,)\n",
      "(3345, 64) (3345,) (837, 64) (837,)\n",
      "(3345, 64) (3345,) (837, 64) (837,)\n",
      "(3345, 64) (3345,) (837, 64) (837,)\n",
      "(3345, 64) (3345,) (837, 64) (837,)\n",
      "(3345, 64) (3345,) (837, 64) (837,)\n",
      "(3345, 64) (3345,) (837, 64) (837,)\n",
      "(3345, 64) (3345,) (837, 64) (837,)\n",
      "(3345, 64) (3345,) (837, 64) (837,)\n",
      "(3345, 64) (3345,) (837, 64) (837,)\n"
     ]
    }
   ],
   "source": [
    "# optimize regularization alpha\n",
    "param_range = range(1,20)\n",
    "\n",
    "results = []\n",
    "for i in param_range:\n",
    "    classifier = MLPClassifier(solver='sgd', alpha=1e-2, hidden_layer_sizes=i, random_state=0, max_iter=1000)\n",
    "    shuffle = BalancedUndersamplingShuffle(n_splits=20, test_size=0.2, random_state=i)\n",
    "    results.append((i, *fit_and_score_pipeline(classifier, X, y, shuffle)))\n",
    "\n",
    "\n"
   ]
  },
  {
   "cell_type": "code",
   "execution_count": 16,
   "id": "1a752760",
   "metadata": {},
   "outputs": [
    {
     "data": {
      "image/png": "[encoded data removed]",
      "text/plain": [
       "<Figure size 432x288 with 1 Axes>"
      ]
     },
     "metadata": {
      "needs_background": "light"
     },
     "output_type": "display_data"
    }
   ],
   "source": [
    "results\n",
    "plot_data = np.array([(row[0], row[1], row[2]) for row in results])\n",
    "import matplotlib.pyplot as plt\n",
    "\n",
    "plt.plot(plot_data[:,0], plot_data[:,1])\n",
    "plt.plot(plot_data[:,0], plot_data[:,2])\n",
    "plt.grid()\n",
    "plt.show()"
   ]
  },
  {
   "cell_type": "code",
   "execution_count": null,
   "id": "ca542c87",
   "metadata": {},
   "outputs": [],
   "source": [
    "# Naive fit\n",
    "classifier = MLPClassifier()\n",
    "train, test = list(cv.split(X, y))[0]\n",
    "scorer = check_scoring(classifier, scoring='accuracy')\n",
    "estimator_params = dict(solver='sgd', learning_rate='adaptive', alpha=1, hidden_layer_sizes=100, random_state=0)\n",
    "verbose = 0\n",
    "\n",
    "results = _fit_and_score(classifier, X, y, scorer, train, test, verbose,\n",
    "                         parameters=estimator_params, fit_params=None,\n",
    "                         return_train_score=True, return_n_test_samples=True,\n",
    "                         return_times=True, return_parameters=True,\n",
    "                         error_score='raise')\n",
    "results"
   ]
  },
  {
   "cell_type": "code",
   "execution_count": null,
   "id": "5df7670a",
   "metadata": {},
   "outputs": [],
   "source": [
    "param_range = range(1,20)\n",
    "classifier = MLPClassifier(random_state=0, solver='lbfgs', alpha=0.01, activation='logistic')\n",
    "cv = BalancedUndersamplingShuffle(n_splits=50, test_size=0.2, random_state=0)\n",
    "train_scores, test_scores = plot_validation_curve(classifier, X, y, \n",
    "                      param_name='hidden_layer_sizes', param_range=param_range,\n",
    "                      cv=cv, scoring='accuracy', n_jobs=8)\n",
    "test_scores_mean = np.mean(test_scores, axis=1)\n",
    "optimal_max_depth = np.argmax(test_scores_mean)\n",
    "print(f'optimal_max_depth={optimal_max_depth}, accuracy={test_scores_mean[optimal_max_depth]}')"
   ]
  },
  {
   "cell_type": "code",
   "execution_count": null,
   "id": "ae3521df",
   "metadata": {},
   "outputs": [],
   "source": []
  }
 ],
 "metadata": {
  "kernelspec": {
   "display_name": "Python 3 (ipykernel)",
   "language": "python",
   "name": "python3"
  },
  "language_info": {
   "codemirror_mode": {
    "name": "ipython",
    "version": 3
   },
   "file_extension": ".py",
   "mimetype": "text/x-python",
   "name": "python",
   "nbconvert_exporter": "python",
   "pygments_lexer": "ipython3",
   "version": "3.9.6"
  }
 },
 "nbformat": 4,
 "nbformat_minor": 5
}
