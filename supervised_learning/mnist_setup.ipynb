{
 "cells": [
  {
   "cell_type": "code",
   "execution_count": 2,
   "id": "2e422591",
   "metadata": {},
   "outputs": [],
   "source": [
    "import numpy as np\n",
    "from sklearn import preprocessing\n",
    "from tensorflow.keras.datasets import mnist\n"
   ]
  },
  {
   "cell_type": "code",
   "execution_count": 9,
   "id": "302c5968",
   "metadata": {},
   "outputs": [
    {
     "name": "stdout",
     "output_type": "stream",
     "text": [
      "Value without encoding: [6]\n",
      "Value with encoding: [0. 0. 0. 0. 0. 0. 1. 0. 0. 0.]\n"
     ]
    }
   ],
   "source": [
    "\n",
    "# Define the One-hot Encoder\n",
    "ohe = preprocessing.OneHotEncoder()\n",
    "\n",
    "# Load MNIST data\n",
    "(X_train, y_train), (X_test, y_test) = mnist.load_data()\n",
    "\n",
    "# Reshape data\n",
    "y_train = y_train.reshape(-1, 1)\n",
    "y_test = y_test.reshape(-1, 1)\n",
    "\n",
    "\n",
    "# Fit and transform training data\n",
    "ohe.fit(y_train)\n",
    "transformed_train = ohe.transform(y_train).toarray()\n",
    "\n",
    "# Fit and transform testing data\n",
    "ohe.fit(y_test)\n",
    "transformed_test = ohe.transform(y_test).toarray()\n",
    "\n",
    "# Print results\n",
    "print(f'Value without encoding: {y_test[123]}')\n",
    "print(f'Value with encoding: {transformed_test[123]}')\n"
   ]
  },
  {
   "cell_type": "code",
   "execution_count": 10,
   "id": "cdedec4a",
   "metadata": {},
   "outputs": [
    {
     "name": "stdout",
     "output_type": "stream",
     "text": [
      "(60000, 784)\n",
      "(10000, 784)\n",
      "(60000, 10)\n",
      "(10000, 10)\n"
     ]
    }
   ],
   "source": [
    "X_train = X_train.reshape(X_train.shape[0], X_train.shape[1]*X_train.shape[2])\n",
    "X_test = X_test.reshape(X_test.shape[0], X_test.shape[1]*X_test.shape[2])\n",
    "print(X_train.shape)\n",
    "print(X_test.shape)\n",
    "print(transformed_train.shape)\n",
    "print(transformed_test.shape)"
   ]
  },
  {
   "cell_type": "code",
   "execution_count": 12,
   "id": "e0cd11c6",
   "metadata": {},
   "outputs": [],
   "source": [
    "with open('mnist_X_train', 'wb') as f:\n",
    "    np.save(f, X_train)\n",
    "with open('mnist_X_test', 'wb') as f:\n",
    "    np.save(f, X_test)\n",
    "with open('mnist_y_train', 'wb') as f:\n",
    "    np.save(f, y_train)\n",
    "with open('mnist_y_test', 'wb') as f:\n",
    "    np.save(f, y_test)\n",
    "with open('mnist_y_train_ohe', 'wb') as f:\n",
    "    np.save(f, transformed_train)\n",
    "with open('mnist_y_test_ohe', 'wb') as f:\n",
    "    np.save(f, transformed_test)"
   ]
  },
  {
   "cell_type": "code",
   "execution_count": 13,
   "id": "3b3a8d87",
   "metadata": {},
   "outputs": [
    {
     "name": "stdout",
     "output_type": "stream",
     "text": [
      "[[0. 0. 0. ... 0. 0. 0.]\n",
      " [1. 0. 0. ... 0. 0. 0.]\n",
      " [0. 0. 0. ... 0. 0. 0.]\n",
      " ...\n",
      " [0. 0. 0. ... 0. 0. 0.]\n",
      " [0. 0. 0. ... 0. 0. 0.]\n",
      " [0. 0. 0. ... 0. 1. 0.]]\n"
     ]
    }
   ],
   "source": [
    "print(transformed_train)\n"
   ]
  },
  {
   "cell_type": "code",
   "execution_count": null,
   "id": "3408286c",
   "metadata": {},
   "outputs": [],
   "source": []
  }
 ],
 "metadata": {
  "kernelspec": {
   "display_name": "Python 3 (ipykernel)",
   "language": "python",
   "name": "python3"
  },
  "language_info": {
   "codemirror_mode": {
    "name": "ipython",
    "version": 3
   },
   "file_extension": ".py",
   "mimetype": "text/x-python",
   "name": "python",
   "nbconvert_exporter": "python",
   "pygments_lexer": "ipython3",
   "version": "3.9.6"
  }
 },
 "nbformat": 4,
 "nbformat_minor": 5
}
