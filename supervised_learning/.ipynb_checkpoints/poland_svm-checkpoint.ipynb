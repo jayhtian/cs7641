{
 "cells": [
  {
   "cell_type": "code",
   "execution_count": 1,
   "id": "4278af1b",
   "metadata": {},
   "outputs": [],
   "source": [
    "import pandas as pd\n",
    "import numpy as np\n",
    "from io import StringIO\n",
    "from classes import BalancedUndersamplingShuffle, balanced_sampling\n",
    "from helpers import plot_learning_curve, plot_validation_curve, fit_and_score_pipeline\n",
    "from sklearn.model_selection import ShuffleSplit, StratifiedKFold\n",
    "from sklearn.metrics import check_scoring\n",
    "from sklearn.model_selection._validation import _fit_and_score\n",
    "from sklearn.model_selection import train_test_split\n",
    "from sklearn.pipeline import make_pipeline\n",
    "from sklearn.preprocessing import StandardScaler, LabelEncoder\n",
    "\n",
    "from sklearn.metrics import fbeta_score, make_scorer\n",
    "from sklearn.svm import SVC\n"
   ]
  },
  {
   "cell_type": "code",
   "execution_count": 2,
   "id": "392b61e4",
   "metadata": {},
   "outputs": [
    {
     "name": "stdout",
     "output_type": "stream",
     "text": [
      "(7027, 65)\n",
      "(10173, 65)\n",
      "(10503, 65)\n",
      "(9792, 65)\n",
      "(5910, 65)\n"
     ]
    }
   ],
   "source": [
    "from scipy.io import arff\n",
    "\n",
    "with open('1year.arff','r') as f:\n",
    "    data1, meta1 = arff.loadarff(f)\n",
    "    data1 = np.asarray(data1.tolist(), dtype=np.float32)\n",
    "    print(data1.shape)\n",
    "\n",
    "with open('2year.arff','r') as f:\n",
    "    data2, meta2 = arff.loadarff(f)\n",
    "    data2 = np.asarray(data2.tolist(), dtype=np.float32)\n",
    "    print(data2.shape)\n",
    "\n",
    "with open('3year.arff','r') as f:\n",
    "    data3, meta3 = arff.loadarff(f)\n",
    "    data3 = np.asarray(data3.tolist(), dtype=np.float32)\n",
    "    print(data3.shape)\n",
    "\n",
    "with open('4year.arff','r') as f:\n",
    "    data4, meta4 = arff.loadarff(f)\n",
    "    data4 = np.asarray(data4.tolist(), dtype=np.float32)\n",
    "    print(data4.shape)\n",
    "\n",
    "with open('5year.arff','r') as f:\n",
    "    data5, meta5 = arff.loadarff(f)\n",
    "    data5 = np.asarray(data5.tolist(), dtype=np.float32)\n",
    "    print(data5.shape)\n"
   ]
  },
  {
   "cell_type": "code",
   "execution_count": 7,
   "id": "11c48f7c",
   "metadata": {},
   "outputs": [
    {
     "name": "stdout",
     "output_type": "stream",
     "text": [
      "a=0.10662111516202229, r=3, gamma=19.758010521281683\n",
      "X.shape=(8362, 64), y.shape=(8362,)\n"
     ]
    }
   ],
   "source": [
    "data = np.concatenate([data1, data2, data3, data4, data5], axis=0)\n",
    "data[np.isnan(data)] = 0\n",
    "\n",
    "X, y = data[:,:-1], data[:, -1]\n",
    "\n",
    "X, y, idx = balanced_sampling(X, y, r = 3, random_state=42)\n",
    "\n",
    "X_train, X_test, y_train, y_test = train_test_split(X, y, test_size=0.3, random_state=42, stratify=y)\n",
    "\n",
    "\n",
    "print(f'X.shape={X.shape}, y.shape={y.shape}')"
   ]
  },
  {
   "cell_type": "markdown",
   "id": "4994f56b",
   "metadata": {},
   "source": [
    "# Naive fit"
   ]
  },
  {
   "cell_type": "code",
   "execution_count": 8,
   "id": "f4a4eb4c",
   "metadata": {},
   "outputs": [
    {
     "data": {
      "text/plain": [
       "0.7477082502989238"
      ]
     },
     "execution_count": 8,
     "metadata": {},
     "output_type": "execute_result"
    }
   ],
   "source": [
    "\n",
    "clf = make_pipeline(StandardScaler(), SVC(gamma='auto'))\n",
    "clf.fit(X_train, y_train)\n",
    "clf.score(X_test, y_test)\n"
   ]
  },
  {
   "cell_type": "markdown",
   "id": "e76611a8",
   "metadata": {},
   "source": [
    "# Hyperparameter tuning"
   ]
  },
  {
   "cell_type": "code",
   "execution_count": 21,
   "id": "996a22a2",
   "metadata": {},
   "outputs": [
    {
     "name": "stdout",
     "output_type": "stream",
     "text": [
      "(5267, 64) (5267,) (586, 64) (586,)\n",
      "(5267, 64) (5267,) (586, 64) (586,)\n",
      "(5267, 64) (5267,) (586, 64) (586,)\n",
      "(5267, 64) (5267,) (586, 64) (586,)\n",
      "(5267, 64) (5267,) (586, 64) (586,)\n",
      "(5267, 64) (5267,) (586, 64) (586,)\n",
      "(5267, 64) (5267,) (586, 64) (586,)\n",
      "(5267, 64) (5267,) (586, 64) (586,)\n",
      "(5267, 64) (5267,) (586, 64) (586,)\n",
      "(5267, 64) (5267,) (586, 64) (586,)\n",
      "(5267, 64) (5267,) (586, 64) (586,)\n",
      "(5267, 64) (5267,) (586, 64) (586,)\n",
      "(5267, 64) (5267,) (586, 64) (586,)\n",
      "(5267, 64) (5267,) (586, 64) (586,)\n",
      "(5267, 64) (5267,) (586, 64) (586,)\n",
      "(5267, 64) (5267,) (586, 64) (586,)\n"
     ]
    }
   ],
   "source": [
    "# optimize kernal\n",
    "param_range = range(1, 200, 20)\n",
    "\n",
    "regularization_param = 1\n",
    "kernal = 'rbf' #{‘linear’, ‘poly’, ‘rbf’, ‘sigmoid’, ‘precomputed’}, default=’rbf’\n",
    "degree = 3 # polynormal kernal degree, ignored by all other kernals, default=3\n",
    "gamma = 'scale' # gamma{‘scale’, ‘auto’} or float, default=’scale’\n",
    "coef0 = 0.0 # float, Independent term in kernel function. Only significant in ‘poly’ and ‘sigmoid’. default=0.0\n",
    "# shrinkingbool, default=True\n",
    "# probabilitybool, default=False\n",
    "# tolfloat, default=1e-3 Tolerance for stopping criterion.\n",
    "max_iter = -1 #int, default=-1\n",
    "random_state = 0 #int default= None\n",
    "\n",
    "train_results = []\n",
    "test_results = []\n",
    "for k in ('linear', 'poly', 'rbf', 'sigmoid'):\n",
    "    classifier = SVC(C=regularization_param,\n",
    "                     kernel=k,\n",
    "                     gamma=gamma,\n",
    "                     random_state=random_state\n",
    "                    )\n",
    "    cv = StratifiedKFold(n_splits=10, shuffle=True, random_state=0)\n",
    "    train_score_f1, test_score_f1, _ = fit_and_score_pipeline(classifier, X_train, y_train, cv=cv, scoring='f1')\n",
    "    train_score_r, test_score_r, _ = fit_and_score_pipeline(classifier, X_train, y_train, cv=cv, scoring='recall')\n",
    "    train_score_p, test_score_p, _ = fit_and_score_pipeline(classifier, X_train, y_train, cv=cv, scoring='precision')\n",
    "    train_score_a, test_score_a, _ = fit_and_score_pipeline(classifier, X_train, y_train, cv=cv, scoring='accuracy')\n",
    "    train_results.append((k, train_score_f1, train_score_r, train_score_p, train_score_a))\n",
    "    test_results.append((k, test_score_f1, test_score_r, test_score_p, test_score_a))\n"
   ]
  },
  {
   "cell_type": "code",
   "execution_count": 41,
   "id": "84429080",
   "metadata": {},
   "outputs": [
    {
     "name": "stdout",
     "output_type": "stream",
     "text": [
      "[['linear' '0.05263157894736842' '0.027210884353741496' '0.8'\n",
      "  '0.7542662116040956']\n",
      " ['poly' '0.03846153846153846' '0.02040816326530612' '0.3333333333333333'\n",
      "  '0.7440273037542662']\n",
      " ['rbf' '0.026845637583892617' '0.013605442176870748' '1.0'\n",
      "  '0.7525597269624573']\n",
      " ['sigmoid' '0.22222222222222224' '0.14285714285714285' '0.5'\n",
      "  '0.7491467576791809']]\n",
      "[0.05263158 0.02721088 0.8        0.75426621]\n",
      "[0.03846154 0.02040816 0.33333333 0.7440273 ]\n",
      "[0.02684564 0.01360544 1.         0.75255973]\n",
      "[0.22222222 0.14285714 0.5        0.74914676]\n"
     ]
    },
    {
     "data": {
      "image/png": "[encoded data removed]",
      "text/plain": [
       "<Figure size 432x288 with 1 Axes>"
      ]
     },
     "metadata": {
      "needs_background": "light"
     },
     "output_type": "display_data"
    }
   ],
   "source": [
    "test_results_array = np.array(test_results)\n",
    "train_results_array = np.array(train_results)\n",
    "# import matplotlib.pyplot as plt\n",
    "import matplotlib.pyplot as plt\n",
    "\n",
    "\n",
    "print(test_results_array)\n",
    "labels = ['f1', 'recall', 'precision', 'accuracy']\n",
    "test_linear = test_results_array[0, 1:].astype(float)\n",
    "test_poly = test_results_array[1, 1:].astype(float)\n",
    "test_rbf = test_results_array[2, 1:].astype(float)\n",
    "test_sigmoid = test_results_array[3, 1:].astype(float)\n",
    "\n",
    "\n",
    "print(test_linear)\n",
    "print(test_poly)\n",
    "print(test_rbf)\n",
    "print(test_sigmoid)\n",
    "# men_means = [20, 34, 30, 35, 27]\n",
    "# women_means = [25, 32, 34, 20, 25]\n",
    "\n",
    "x = np.arange(len(labels))  # the label locations\n",
    "width = 0.1  # the width of the bars\n",
    "\n",
    "fig, ax = plt.subplots()\n",
    "rects1 = ax.bar(x - width/4*6, test_linear, width, label='linear')\n",
    "rects2 = ax.bar(x - width/4*2, test_poly, width, label='poly')\n",
    "rects3 = ax.bar(x + width/4*2, test_rbf, width, label='rbf')\n",
    "rects4 = ax.bar(x + width/4*6, test_sigmoid, width, label='sigmoid')\n",
    "\n",
    "\n",
    "# # Add some text for labels, title and custom x-axis tick labels, etc.\n",
    "ax.set_ylabel('Scores')\n",
    "ax.set_xlabel('Metric')\n",
    "ax.set_title('Metric Score by kernel')\n",
    "ax.set_xticks(x)\n",
    "ax.set_xticklabels(labels)\n",
    "ax.legend()\n",
    "\n",
    "# ax.bar_label(rects1, padding=3)\n",
    "# ax.bar_label(rects2, padding=3)\n",
    "# ax.bar_label(rects3, padding=3)\n",
    "# ax.bar_label(rects4, padding=3)\n",
    "\n",
    "fig.tight_layout()\n",
    "\n",
    "plt.show()\n"
   ]
  },
  {
   "cell_type": "code",
   "execution_count": null,
   "id": "e26dc5e3",
   "metadata": {},
   "outputs": [],
   "source": []
  }
 ],
 "metadata": {
  "kernelspec": {
   "display_name": "Python 3 (ipykernel)",
   "language": "python",
   "name": "python3"
  },
  "language_info": {
   "codemirror_mode": {
    "name": "ipython",
    "version": 3
   },
   "file_extension": ".py",
   "mimetype": "text/x-python",
   "name": "python",
   "nbconvert_exporter": "python",
   "pygments_lexer": "ipython3",
   "version": "3.9.6"
  }
 },
 "nbformat": 4,
 "nbformat_minor": 5
}
