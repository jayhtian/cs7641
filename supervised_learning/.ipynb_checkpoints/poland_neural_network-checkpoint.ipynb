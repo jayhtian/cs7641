{
 "cells": [
  {
   "cell_type": "code",
   "execution_count": 1,
   "id": "7b00976d",
   "metadata": {},
   "outputs": [],
   "source": [
    "import pandas as pd\n",
    "import numpy as np\n",
    "from io import StringIO\n",
    "from classes import BalancedUndersamplingShuffle, balanced_sampling\n",
    "from helpers import plot_learning_curve, plot_validation_curve, fit_and_score_pipeline, exp_range, \\\n",
    "    validation_curve_with_undersampling, plot_validation_curve_with_undersampling\n",
    "from sklearn.neural_network import MLPClassifier\n",
    "from sklearn.model_selection import ShuffleSplit, StratifiedKFold\n",
    "from sklearn.metrics import check_scoring\n",
    "from sklearn.model_selection._validation import _fit_and_score\n",
    "from sklearn.model_selection import train_test_split\n",
    "from sklearn.pipeline import make_pipeline\n",
    "from sklearn.preprocessing import StandardScaler, LabelEncoder\n",
    "\n",
    "from sklearn.metrics import fbeta_score, make_scorer"
   ]
  },
  {
   "cell_type": "code",
   "execution_count": 2,
   "id": "1d72146e",
   "metadata": {},
   "outputs": [
    {
     "name": "stdout",
     "output_type": "stream",
     "text": [
      "(7027, 65)\n",
      "(10173, 65)\n",
      "(10503, 65)\n",
      "(9792, 65)\n",
      "(5910, 65)\n"
     ]
    }
   ],
   "source": [
    "from scipy.io import arff\n",
    "\n",
    "with open('1year.arff','r') as f:\n",
    "    data1, meta1 = arff.loadarff(f)\n",
    "    data1 = np.asarray(data1.tolist(), dtype=np.float32)\n",
    "    print(data1.shape)\n",
    "\n",
    "with open('2year.arff','r') as f:\n",
    "    data2, meta2 = arff.loadarff(f)\n",
    "    data2 = np.asarray(data2.tolist(), dtype=np.float32)\n",
    "    print(data2.shape)\n",
    "\n",
    "with open('3year.arff','r') as f:\n",
    "    data3, meta3 = arff.loadarff(f)\n",
    "    data3 = np.asarray(data3.tolist(), dtype=np.float32)\n",
    "    print(data3.shape)\n",
    "\n",
    "with open('4year.arff','r') as f:\n",
    "    data4, meta4 = arff.loadarff(f)\n",
    "    data4 = np.asarray(data4.tolist(), dtype=np.float32)\n",
    "    print(data4.shape)\n",
    "\n",
    "with open('5year.arff','r') as f:\n",
    "    data5, meta5 = arff.loadarff(f)\n",
    "    data5 = np.asarray(data5.tolist(), dtype=np.float32)\n",
    "    print(data5.shape)\n"
   ]
  },
  {
   "cell_type": "code",
   "execution_count": 3,
   "id": "8c0deb5b",
   "metadata": {},
   "outputs": [
    {
     "name": "stdout",
     "output_type": "stream",
     "text": [
      "[0. 0. 0. ... 1. 1. 1.]\n",
      "data.shape=(43405, 65)\n",
      "X.shape=(43405, 64), y.shape=(43405,)\n"
     ]
    }
   ],
   "source": [
    "data = np.concatenate([data1, data2, data3, data4, data5], axis=0)\n",
    "data[np.isnan(data)] = 0\n",
    "\n",
    "\n",
    "# data = data[~np.isnan(data).any(axis=1)]\n",
    "print(data[:,-1])\n",
    "\n",
    "print(f'data.shape={data.shape}')\n",
    "\n",
    "X, y = data[:,:-1], data[:, -1]\n",
    "# X, y, idx = balanced_sampling(X, y, r = 3, random_state=42)\n",
    "\n",
    "# label_encoder = LabelEncoder()\n",
    "# y = label_encoder.fit_transform(y.astype(str))\n",
    "\n",
    "# X_train, X_test, y_train, y_test = train_test_split(X, y, test_size=0.3, random_state=42, stratify=y)\n",
    "\n",
    "\n",
    "print(f'X.shape={X.shape}, y.shape={y.shape}')"
   ]
  },
  {
   "cell_type": "code",
   "execution_count": 5,
   "id": "b5925000",
   "metadata": {},
   "outputs": [],
   "source": [
    "def fit_and_score_iteratively(classifier, X, y, undersampling_ratio, iterations):\n",
    "    results = []\n",
    "\n",
    "    for i in range(iterations):\n",
    "        if undersampling_ratio:\n",
    "            X_, y_, idx = balanced_sampling(X, y, r = undersampling_ratio, random_state=42)\n",
    "        else:\n",
    "            X_, y_ = np.copy(X), np.copy(y)\n",
    "            \n",
    "        X_train, X_test, y_train, y_test = train_test_split(X_, y_, test_size=0.3, random_state=42, stratify=y_)\n",
    "\n",
    "        classifier.fit(X_train, y_train)\n",
    "\n",
    "        scorer = check_scoring(classifier, scoring='accuracy')\n",
    "        score_a = scorer(classifier, X_test, y_test)\n",
    "\n",
    "        scorer = check_scoring(classifier, scoring='f1')\n",
    "        score_f1 = scorer(classifier, X_test, y_test)\n",
    "\n",
    "        scorer = check_scoring(classifier, scoring='recall')\n",
    "        score_r = scorer(classifier, X_test, y_test)\n",
    "\n",
    "        scorer = check_scoring(classifier, scoring='precision')\n",
    "        score_p = scorer(classifier, X_test, y_test)\n",
    "\n",
    "        scorer = check_scoring(classifier, scoring='balanced_accuracy')\n",
    "        score_ba = scorer(classifier, X_test, y_test)\n",
    "\n",
    "        results.append((score_a, score_f1, score_p, score_r, score_ba))\n",
    "\n",
    "    return np.mean(np.array(results), axis=0)\n"
   ]
  },
  {
   "cell_type": "markdown",
   "id": "9190dc3b",
   "metadata": {},
   "source": [
    "# Try naive fit"
   ]
  },
  {
   "cell_type": "code",
   "execution_count": 7,
   "id": "bacc3b12",
   "metadata": {},
   "outputs": [],
   "source": [
    "# no undersampling\n",
    "# Baseline model\n",
    "\n",
    "# X_train, X_test, y_train, y_test = train_test_split(X, y, test_size=0.3, random_state=42, stratify=y)\n",
    "\n",
    "classifier = MLPClassifier(solver='adam', alpha=1e-4, hidden_layer_sizes=30, random_state=0, max_iter=1000)\n",
    "res = fit_and_score_iteratively(classifier, X, y, None, 10)\n"
   ]
  },
  {
   "cell_type": "code",
   "execution_count": 8,
   "id": "1963dd90",
   "metadata": {},
   "outputs": [
    {
     "name": "stdout",
     "output_type": "stream",
     "text": [
      "[0.94278913 0.04118404 0.10666667 0.02551834 0.50735377]\n"
     ]
    }
   ],
   "source": [
    "print(res)"
   ]
  },
  {
   "cell_type": "code",
   "execution_count": 9,
   "id": "ba80f8e8",
   "metadata": {},
   "outputs": [
    {
     "name": "stdout",
     "output_type": "stream",
     "text": [
      "a=0.10662111516202229, r=3, gamma=19.758010521281683\n",
      "a=0.10662111516202229, r=3, gamma=19.758010521281683\n",
      "a=0.10662111516202229, r=3, gamma=19.758010521281683\n",
      "a=0.10662111516202229, r=3, gamma=19.758010521281683\n",
      "a=0.10662111516202229, r=3, gamma=19.758010521281683\n",
      "a=0.10662111516202229, r=3, gamma=19.758010521281683\n",
      "a=0.10662111516202229, r=3, gamma=19.758010521281683\n",
      "a=0.10662111516202229, r=3, gamma=19.758010521281683\n",
      "a=0.10662111516202229, r=3, gamma=19.758010521281683\n",
      "a=0.10662111516202229, r=3, gamma=19.758010521281683\n"
     ]
    }
   ],
   "source": [
    "# Undersampling to a 3:1 ratio\n",
    "# Baseline model\n",
    "classifier = MLPClassifier(solver='adam', alpha=1e-4, hidden_layer_sizes=30, random_state=0, max_iter=1000)\n",
    "res = fit_and_score_iteratively(classifier, X, y, 3, 10)\n"
   ]
  },
  {
   "cell_type": "code",
   "execution_count": 10,
   "id": "db4008ab",
   "metadata": {},
   "outputs": [
    {
     "name": "stdout",
     "output_type": "stream",
     "text": [
      "[0.66042248 0.35618747 0.36559198 0.37320574 0.56465813]\n"
     ]
    }
   ],
   "source": [
    "print(res)"
   ]
  },
  {
   "cell_type": "code",
   "execution_count": 6,
   "id": "d8a37e65",
   "metadata": {},
   "outputs": [
    {
     "name": "stdout",
     "output_type": "stream",
     "text": [
      "a=0.0, r=1, gamma=19.758010521281683\n",
      "a=0.0, r=1, gamma=19.758010521281683\n",
      "a=0.0, r=1, gamma=19.758010521281683\n",
      "a=0.0, r=1, gamma=19.758010521281683\n",
      "a=0.0, r=1, gamma=19.758010521281683\n",
      "a=0.0, r=1, gamma=19.758010521281683\n",
      "a=0.0, r=1, gamma=19.758010521281683\n",
      "a=0.0, r=1, gamma=19.758010521281683\n",
      "a=0.0, r=1, gamma=19.758010521281683\n",
      "a=0.0, r=1, gamma=19.758010521281683\n"
     ]
    }
   ],
   "source": [
    "# Undersampling to a 1:1 ratio\n",
    "# Baseline model\n",
    "classifier = MLPClassifier(solver='adam', alpha=1e-4, hidden_layer_sizes=30, random_state=0, max_iter=1000)\n",
    "res = fit_and_score_iteratively(classifier, X, y, 1, 10)\n"
   ]
  },
  {
   "cell_type": "code",
   "execution_count": 7,
   "id": "130c3c4a",
   "metadata": {
    "scrolled": true
   },
   "outputs": [
    {
     "name": "stdout",
     "output_type": "stream",
     "text": [
      "[0.57482072 0.56942881 0.58846807 0.5784689  0.57482362]\n"
     ]
    }
   ],
   "source": [
    "print(res)"
   ]
  },
  {
   "cell_type": "code",
   "execution_count": 9,
   "id": "72d1dc71",
   "metadata": {},
   "outputs": [
    {
     "name": "stdout",
     "output_type": "stream",
     "text": [
      "a=0.0, r=1, gamma=19.758010521281683\n",
      "a=0.0, r=1, gamma=19.758010521281683\n",
      "a=0.0, r=1, gamma=19.758010521281683\n",
      "a=0.0, r=1, gamma=19.758010521281683\n",
      "a=0.0, r=1, gamma=19.758010521281683\n",
      "a=0.0, r=1, gamma=19.758010521281683\n",
      "a=0.0, r=1, gamma=19.758010521281683\n",
      "a=0.0, r=1, gamma=19.758010521281683\n",
      "a=0.0, r=1, gamma=19.758010521281683\n",
      "a=0.0, r=1, gamma=19.758010521281683\n",
      "[0.7438247  0.74532983 0.74090471 0.75007974 0.74382968]\n"
     ]
    }
   ],
   "source": [
    "# normalizing data with pipeline \n",
    "\n",
    "classifier = MLPClassifier(solver='adam', activation='relu', alpha=1e-4, \n",
    "                           hidden_layer_sizes=30, random_state=0, max_iter=2000)\n",
    "pipe = make_pipeline(StandardScaler(), classifier)\n",
    "\n",
    "res = fit_and_score_iteratively(pipe, X, y, 1, 10)\n",
    "print(res)"
   ]
  },
  {
   "cell_type": "markdown",
   "id": "204aaa92",
   "metadata": {},
   "source": [
    "# Tuning Hyperparameters"
   ]
  },
  {
   "cell_type": "code",
   "execution_count": null,
   "id": "9bbf434f",
   "metadata": {},
   "outputs": [],
   "source": [
    "# https://stats.stackexchange.com/questions/181/how-to-choose-the-number-of-hidden-layers-and-nodes-in-a-feedforward-neural-netw"
   ]
  },
  {
   "cell_type": "markdown",
   "id": "d6572d68",
   "metadata": {},
   "source": [
    "### hidden_layer_sizes"
   ]
  },
  {
   "cell_type": "code",
   "execution_count": 10,
   "id": "5614fd88",
   "metadata": {
    "scrolled": true
   },
   "outputs": [
    {
     "name": "stdout",
     "output_type": "stream",
     "text": [
      "<class 'sklearn.pipeline.Pipeline'>\n",
      "a=0.0, r=1, gamma=20.040858725761773\n",
      "a=0.0, r=1, gamma=20.040858725761773\n",
      "a=0.0, r=1, gamma=20.040858725761773\n",
      "a=0.0, r=1, gamma=20.040858725761773\n",
      "a=0.0, r=1, gamma=20.040858725761773\n",
      "<class 'sklearn.pipeline.Pipeline'>\n",
      "a=0.0, r=1, gamma=20.040858725761773\n",
      "a=0.0, r=1, gamma=20.040858725761773\n",
      "a=0.0, r=1, gamma=20.040858725761773\n",
      "a=0.0, r=1, gamma=20.040858725761773\n",
      "a=0.0, r=1, gamma=20.040858725761773\n",
      "<class 'sklearn.pipeline.Pipeline'>\n",
      "a=0.0, r=1, gamma=20.040858725761773\n",
      "a=0.0, r=1, gamma=20.040858725761773\n",
      "a=0.0, r=1, gamma=20.040858725761773\n",
      "a=0.0, r=1, gamma=20.040858725761773\n",
      "a=0.0, r=1, gamma=20.040858725761773\n",
      "<class 'sklearn.pipeline.Pipeline'>\n",
      "a=0.0, r=1, gamma=20.040858725761773\n",
      "a=0.0, r=1, gamma=20.040858725761773\n",
      "a=0.0, r=1, gamma=20.040858725761773\n",
      "a=0.0, r=1, gamma=20.040858725761773\n",
      "a=0.0, r=1, gamma=20.040858725761773\n",
      "<class 'sklearn.pipeline.Pipeline'>\n",
      "a=0.0, r=1, gamma=20.040858725761773\n",
      "a=0.0, r=1, gamma=20.040858725761773\n"
     ]
    },
    {
     "name": "stderr",
     "output_type": "stream",
     "text": [
      "/home/jay/.virtualenv/cs7641-sl/lib/python3.9/site-packages/sklearn/neural_network/_multilayer_perceptron.py:614: ConvergenceWarning: Stochastic Optimizer: Maximum iterations (2000) reached and the optimization hasn't converged yet.\n",
      "  warnings.warn(\n"
     ]
    },
    {
     "name": "stdout",
     "output_type": "stream",
     "text": [
      "a=0.0, r=1, gamma=20.040858725761773\n",
      "a=0.0, r=1, gamma=20.040858725761773\n",
      "a=0.0, r=1, gamma=20.040858725761773\n",
      "<class 'sklearn.pipeline.Pipeline'>\n",
      "a=0.0, r=1, gamma=20.040858725761773\n",
      "a=0.0, r=1, gamma=20.040858725761773\n",
      "a=0.0, r=1, gamma=20.040858725761773\n",
      "a=0.0, r=1, gamma=20.040858725761773\n",
      "a=0.0, r=1, gamma=20.040858725761773\n",
      "<class 'sklearn.pipeline.Pipeline'>\n",
      "a=0.0, r=1, gamma=20.040858725761773\n"
     ]
    },
    {
     "name": "stderr",
     "output_type": "stream",
     "text": [
      "/home/jay/.virtualenv/cs7641-sl/lib/python3.9/site-packages/sklearn/neural_network/_multilayer_perceptron.py:614: ConvergenceWarning: Stochastic Optimizer: Maximum iterations (2000) reached and the optimization hasn't converged yet.\n",
      "  warnings.warn(\n"
     ]
    },
    {
     "name": "stdout",
     "output_type": "stream",
     "text": [
      "a=0.0, r=1, gamma=20.040858725761773\n",
      "a=0.0, r=1, gamma=20.040858725761773\n",
      "a=0.0, r=1, gamma=20.040858725761773\n",
      "a=0.0, r=1, gamma=20.040858725761773\n"
     ]
    },
    {
     "name": "stderr",
     "output_type": "stream",
     "text": [
      "/home/jay/.virtualenv/cs7641-sl/lib/python3.9/site-packages/sklearn/neural_network/_multilayer_perceptron.py:614: ConvergenceWarning: Stochastic Optimizer: Maximum iterations (2000) reached and the optimization hasn't converged yet.\n",
      "  warnings.warn(\n"
     ]
    },
    {
     "name": "stdout",
     "output_type": "stream",
     "text": [
      "<class 'sklearn.pipeline.Pipeline'>\n",
      "a=0.0, r=1, gamma=20.040858725761773\n",
      "a=0.0, r=1, gamma=20.040858725761773\n",
      "a=0.0, r=1, gamma=20.040858725761773\n",
      "a=0.0, r=1, gamma=20.040858725761773\n",
      "a=0.0, r=1, gamma=20.040858725761773\n",
      "<class 'sklearn.pipeline.Pipeline'>\n",
      "a=0.0, r=1, gamma=20.040858725761773\n",
      "a=0.0, r=1, gamma=20.040858725761773\n",
      "a=0.0, r=1, gamma=20.040858725761773\n"
     ]
    },
    {
     "name": "stderr",
     "output_type": "stream",
     "text": [
      "/home/jay/.virtualenv/cs7641-sl/lib/python3.9/site-packages/sklearn/neural_network/_multilayer_perceptron.py:614: ConvergenceWarning: Stochastic Optimizer: Maximum iterations (2000) reached and the optimization hasn't converged yet.\n",
      "  warnings.warn(\n"
     ]
    },
    {
     "name": "stdout",
     "output_type": "stream",
     "text": [
      "a=0.0, r=1, gamma=20.040858725761773\n",
      "a=0.0, r=1, gamma=20.040858725761773\n",
      "<class 'sklearn.pipeline.Pipeline'>\n",
      "a=0.0, r=1, gamma=20.040858725761773\n",
      "a=0.0, r=1, gamma=20.040858725761773\n",
      "a=0.0, r=1, gamma=20.040858725761773\n"
     ]
    },
    {
     "name": "stderr",
     "output_type": "stream",
     "text": [
      "/home/jay/.virtualenv/cs7641-sl/lib/python3.9/site-packages/sklearn/neural_network/_multilayer_perceptron.py:614: ConvergenceWarning: Stochastic Optimizer: Maximum iterations (2000) reached and the optimization hasn't converged yet.\n",
      "  warnings.warn(\n"
     ]
    },
    {
     "name": "stdout",
     "output_type": "stream",
     "text": [
      "a=0.0, r=1, gamma=20.040858725761773\n",
      "a=0.0, r=1, gamma=20.040858725761773\n",
      "<class 'sklearn.pipeline.Pipeline'>\n",
      "a=0.0, r=1, gamma=20.040858725761773\n",
      "a=0.0, r=1, gamma=20.040858725761773\n"
     ]
    },
    {
     "name": "stderr",
     "output_type": "stream",
     "text": [
      "/home/jay/.virtualenv/cs7641-sl/lib/python3.9/site-packages/sklearn/neural_network/_multilayer_perceptron.py:614: ConvergenceWarning: Stochastic Optimizer: Maximum iterations (2000) reached and the optimization hasn't converged yet.\n",
      "  warnings.warn(\n"
     ]
    },
    {
     "name": "stdout",
     "output_type": "stream",
     "text": [
      "a=0.0, r=1, gamma=20.040858725761773\n",
      "a=0.0, r=1, gamma=20.040858725761773\n"
     ]
    },
    {
     "name": "stderr",
     "output_type": "stream",
     "text": [
      "/home/jay/.virtualenv/cs7641-sl/lib/python3.9/site-packages/sklearn/neural_network/_multilayer_perceptron.py:614: ConvergenceWarning: Stochastic Optimizer: Maximum iterations (2000) reached and the optimization hasn't converged yet.\n",
      "  warnings.warn(\n"
     ]
    },
    {
     "name": "stdout",
     "output_type": "stream",
     "text": [
      "a=0.0, r=1, gamma=20.040858725761773\n",
      "<class 'sklearn.pipeline.Pipeline'>\n",
      "a=0.0, r=1, gamma=20.040858725761773\n"
     ]
    },
    {
     "name": "stderr",
     "output_type": "stream",
     "text": [
      "/home/jay/.virtualenv/cs7641-sl/lib/python3.9/site-packages/sklearn/neural_network/_multilayer_perceptron.py:614: ConvergenceWarning: Stochastic Optimizer: Maximum iterations (2000) reached and the optimization hasn't converged yet.\n",
      "  warnings.warn(\n"
     ]
    },
    {
     "name": "stdout",
     "output_type": "stream",
     "text": [
      "a=0.0, r=1, gamma=20.040858725761773\n"
     ]
    },
    {
     "name": "stderr",
     "output_type": "stream",
     "text": [
      "/home/jay/.virtualenv/cs7641-sl/lib/python3.9/site-packages/sklearn/neural_network/_multilayer_perceptron.py:614: ConvergenceWarning: Stochastic Optimizer: Maximum iterations (2000) reached and the optimization hasn't converged yet.\n",
      "  warnings.warn(\n"
     ]
    },
    {
     "name": "stdout",
     "output_type": "stream",
     "text": [
      "a=0.0, r=1, gamma=20.040858725761773\n",
      "a=0.0, r=1, gamma=20.040858725761773\n",
      "a=0.0, r=1, gamma=20.040858725761773\n",
      "<class 'sklearn.pipeline.Pipeline'>\n",
      "a=0.0, r=1, gamma=20.040858725761773\n",
      "a=0.0, r=1, gamma=20.040858725761773\n",
      "a=0.0, r=1, gamma=20.040858725761773\n",
      "a=0.0, r=1, gamma=20.040858725761773\n",
      "a=0.0, r=1, gamma=20.040858725761773\n",
      "<class 'sklearn.pipeline.Pipeline'>\n",
      "a=0.0, r=1, gamma=20.040858725761773\n",
      "a=0.0, r=1, gamma=20.040858725761773\n",
      "a=0.0, r=1, gamma=20.040858725761773\n",
      "a=0.0, r=1, gamma=20.040858725761773\n",
      "a=0.0, r=1, gamma=20.040858725761773\n",
      "<class 'sklearn.pipeline.Pipeline'>\n",
      "a=0.0, r=1, gamma=20.040858725761773\n",
      "a=0.0, r=1, gamma=20.040858725761773\n",
      "a=0.0, r=1, gamma=20.040858725761773\n"
     ]
    },
    {
     "name": "stderr",
     "output_type": "stream",
     "text": [
      "/home/jay/.virtualenv/cs7641-sl/lib/python3.9/site-packages/sklearn/neural_network/_multilayer_perceptron.py:614: ConvergenceWarning: Stochastic Optimizer: Maximum iterations (2000) reached and the optimization hasn't converged yet.\n",
      "  warnings.warn(\n"
     ]
    },
    {
     "name": "stdout",
     "output_type": "stream",
     "text": [
      "a=0.0, r=1, gamma=20.040858725761773\n",
      "a=0.0, r=1, gamma=20.040858725761773\n"
     ]
    },
    {
     "name": "stderr",
     "output_type": "stream",
     "text": [
      "/home/jay/.virtualenv/cs7641-sl/lib/python3.9/site-packages/sklearn/neural_network/_multilayer_perceptron.py:614: ConvergenceWarning: Stochastic Optimizer: Maximum iterations (2000) reached and the optimization hasn't converged yet.\n",
      "  warnings.warn(\n"
     ]
    },
    {
     "name": "stdout",
     "output_type": "stream",
     "text": [
      "<class 'sklearn.pipeline.Pipeline'>\n",
      "a=0.0, r=1, gamma=20.040858725761773\n",
      "a=0.0, r=1, gamma=20.040858725761773\n",
      "a=0.0, r=1, gamma=20.040858725761773\n",
      "a=0.0, r=1, gamma=20.040858725761773\n",
      "a=0.0, r=1, gamma=20.040858725761773\n",
      "<class 'sklearn.pipeline.Pipeline'>\n",
      "a=0.0, r=1, gamma=20.040858725761773\n",
      "a=0.0, r=1, gamma=20.040858725761773\n"
     ]
    },
    {
     "name": "stderr",
     "output_type": "stream",
     "text": [
      "/home/jay/.virtualenv/cs7641-sl/lib/python3.9/site-packages/sklearn/neural_network/_multilayer_perceptron.py:614: ConvergenceWarning: Stochastic Optimizer: Maximum iterations (2000) reached and the optimization hasn't converged yet.\n",
      "  warnings.warn(\n"
     ]
    },
    {
     "name": "stdout",
     "output_type": "stream",
     "text": [
      "a=0.0, r=1, gamma=20.040858725761773\n",
      "a=0.0, r=1, gamma=20.040858725761773\n",
      "a=0.0, r=1, gamma=20.040858725761773\n",
      "<class 'sklearn.pipeline.Pipeline'>\n",
      "a=0.0, r=1, gamma=20.040858725761773\n",
      "a=0.0, r=1, gamma=20.040858725761773\n",
      "a=0.0, r=1, gamma=20.040858725761773\n",
      "a=0.0, r=1, gamma=20.040858725761773\n",
      "a=0.0, r=1, gamma=20.040858725761773\n",
      "<class 'sklearn.pipeline.Pipeline'>\n",
      "a=0.0, r=1, gamma=20.040858725761773\n",
      "a=0.0, r=1, gamma=20.040858725761773\n",
      "a=0.0, r=1, gamma=20.040858725761773\n",
      "a=0.0, r=1, gamma=20.040858725761773\n",
      "a=0.0, r=1, gamma=20.040858725761773\n",
      "<class 'sklearn.pipeline.Pipeline'>\n",
      "a=0.0, r=1, gamma=20.040858725761773\n",
      "a=0.0, r=1, gamma=20.040858725761773\n",
      "a=0.0, r=1, gamma=20.040858725761773\n",
      "a=0.0, r=1, gamma=20.040858725761773\n",
      "a=0.0, r=1, gamma=20.040858725761773\n",
      "<class 'sklearn.pipeline.Pipeline'>\n",
      "a=0.0, r=1, gamma=20.040858725761773\n",
      "a=0.0, r=1, gamma=20.040858725761773\n",
      "a=0.0, r=1, gamma=20.040858725761773\n",
      "a=0.0, r=1, gamma=20.040858725761773\n",
      "a=0.0, r=1, gamma=20.040858725761773\n",
      "<class 'sklearn.pipeline.Pipeline'>\n",
      "a=0.0, r=1, gamma=20.040858725761773\n",
      "a=0.0, r=1, gamma=20.040858725761773\n",
      "a=0.0, r=1, gamma=20.040858725761773\n"
     ]
    },
    {
     "name": "stderr",
     "output_type": "stream",
     "text": [
      "/home/jay/.virtualenv/cs7641-sl/lib/python3.9/site-packages/sklearn/neural_network/_multilayer_perceptron.py:614: ConvergenceWarning: Stochastic Optimizer: Maximum iterations (2000) reached and the optimization hasn't converged yet.\n",
      "  warnings.warn(\n"
     ]
    },
    {
     "name": "stdout",
     "output_type": "stream",
     "text": [
      "a=0.0, r=1, gamma=20.040858725761773\n",
      "a=0.0, r=1, gamma=20.040858725761773\n",
      "<class 'sklearn.pipeline.Pipeline'>\n",
      "a=0.0, r=1, gamma=20.040858725761773\n",
      "a=0.0, r=1, gamma=20.040858725761773\n",
      "a=0.0, r=1, gamma=20.040858725761773\n",
      "a=0.0, r=1, gamma=20.040858725761773\n",
      "a=0.0, r=1, gamma=20.040858725761773\n",
      "<class 'sklearn.pipeline.Pipeline'>\n",
      "a=0.0, r=1, gamma=20.040858725761773\n",
      "a=0.0, r=1, gamma=20.040858725761773\n",
      "a=0.0, r=1, gamma=20.040858725761773\n",
      "a=0.0, r=1, gamma=20.040858725761773\n",
      "a=0.0, r=1, gamma=20.040858725761773\n",
      "<class 'sklearn.pipeline.Pipeline'>\n",
      "a=0.0, r=1, gamma=20.040858725761773\n",
      "a=0.0, r=1, gamma=20.040858725761773\n",
      "a=0.0, r=1, gamma=20.040858725761773\n",
      "a=0.0, r=1, gamma=20.040858725761773\n",
      "a=0.0, r=1, gamma=20.040858725761773\n",
      "<class 'sklearn.pipeline.Pipeline'>\n",
      "a=0.0, r=1, gamma=20.040858725761773\n",
      "a=0.0, r=1, gamma=20.040858725761773\n",
      "a=0.0, r=1, gamma=20.040858725761773\n",
      "a=0.0, r=1, gamma=20.040858725761773\n",
      "a=0.0, r=1, gamma=20.040858725761773\n",
      "<class 'sklearn.pipeline.Pipeline'>\n",
      "a=0.0, r=1, gamma=20.040858725761773\n",
      "a=0.0, r=1, gamma=20.040858725761773\n",
      "a=0.0, r=1, gamma=20.040858725761773\n",
      "a=0.0, r=1, gamma=20.040858725761773\n",
      "a=0.0, r=1, gamma=20.040858725761773\n",
      "<class 'sklearn.pipeline.Pipeline'>\n",
      "a=0.0, r=1, gamma=20.040858725761773\n",
      "a=0.0, r=1, gamma=20.040858725761773\n",
      "a=0.0, r=1, gamma=20.040858725761773\n",
      "a=0.0, r=1, gamma=20.040858725761773\n",
      "a=0.0, r=1, gamma=20.040858725761773\n",
      "<class 'sklearn.pipeline.Pipeline'>\n",
      "a=0.0, r=1, gamma=20.040858725761773\n",
      "a=0.0, r=1, gamma=20.040858725761773\n",
      "a=0.0, r=1, gamma=20.040858725761773\n",
      "a=0.0, r=1, gamma=20.040858725761773\n",
      "a=0.0, r=1, gamma=20.040858725761773\n",
      "<class 'sklearn.pipeline.Pipeline'>\n",
      "a=0.0, r=1, gamma=20.040858725761773\n",
      "a=0.0, r=1, gamma=20.040858725761773\n",
      "a=0.0, r=1, gamma=20.040858725761773\n",
      "a=0.0, r=1, gamma=20.040858725761773\n",
      "a=0.0, r=1, gamma=20.040858725761773\n",
      "<class 'sklearn.pipeline.Pipeline'>\n",
      "a=0.0, r=1, gamma=20.040858725761773\n",
      "a=0.0, r=1, gamma=20.040858725761773\n",
      "a=0.0, r=1, gamma=20.040858725761773\n",
      "a=0.0, r=1, gamma=20.040858725761773\n",
      "a=0.0, r=1, gamma=20.040858725761773\n",
      "<class 'sklearn.pipeline.Pipeline'>\n",
      "a=0.0, r=1, gamma=20.040858725761773\n",
      "a=0.0, r=1, gamma=20.040858725761773\n",
      "a=0.0, r=1, gamma=20.040858725761773\n",
      "a=0.0, r=1, gamma=20.040858725761773\n",
      "a=0.0, r=1, gamma=20.040858725761773\n"
     ]
    },
    {
     "name": "stderr",
     "output_type": "stream",
     "text": [
      "/home/jay/.virtualenv/cs7641-sl/lib/python3.9/site-packages/sklearn/neural_network/_multilayer_perceptron.py:614: ConvergenceWarning: Stochastic Optimizer: Maximum iterations (2000) reached and the optimization hasn't converged yet.\n",
      "  warnings.warn(\n"
     ]
    },
    {
     "name": "stdout",
     "output_type": "stream",
     "text": [
      "<class 'sklearn.pipeline.Pipeline'>\n",
      "a=0.0, r=1, gamma=20.040858725761773\n",
      "a=0.0, r=1, gamma=20.040858725761773\n",
      "a=0.0, r=1, gamma=20.040858725761773\n",
      "a=0.0, r=1, gamma=20.040858725761773\n",
      "a=0.0, r=1, gamma=20.040858725761773\n",
      "<class 'sklearn.pipeline.Pipeline'>\n",
      "a=0.0, r=1, gamma=20.040858725761773\n",
      "a=0.0, r=1, gamma=20.040858725761773\n",
      "a=0.0, r=1, gamma=20.040858725761773\n",
      "a=0.0, r=1, gamma=20.040858725761773\n",
      "a=0.0, r=1, gamma=20.040858725761773\n",
      "<class 'sklearn.pipeline.Pipeline'>\n",
      "a=0.0, r=1, gamma=20.040858725761773\n",
      "a=0.0, r=1, gamma=20.040858725761773\n",
      "a=0.0, r=1, gamma=20.040858725761773\n",
      "a=0.0, r=1, gamma=20.040858725761773\n",
      "a=0.0, r=1, gamma=20.040858725761773\n",
      "<class 'sklearn.pipeline.Pipeline'>\n",
      "a=0.0, r=1, gamma=20.040858725761773\n",
      "a=0.0, r=1, gamma=20.040858725761773\n",
      "a=0.0, r=1, gamma=20.040858725761773\n",
      "a=0.0, r=1, gamma=20.040858725761773\n",
      "a=0.0, r=1, gamma=20.040858725761773\n",
      "<class 'sklearn.pipeline.Pipeline'>\n",
      "a=0.0, r=1, gamma=20.040858725761773\n",
      "a=0.0, r=1, gamma=20.040858725761773\n",
      "a=0.0, r=1, gamma=20.040858725761773\n",
      "a=0.0, r=1, gamma=20.040858725761773\n",
      "a=0.0, r=1, gamma=20.040858725761773\n",
      "<class 'sklearn.pipeline.Pipeline'>\n",
      "a=0.0, r=1, gamma=20.040858725761773\n",
      "a=0.0, r=1, gamma=20.040858725761773\n",
      "a=0.0, r=1, gamma=20.040858725761773\n",
      "a=0.0, r=1, gamma=20.040858725761773\n",
      "a=0.0, r=1, gamma=20.040858725761773\n",
      "<class 'sklearn.pipeline.Pipeline'>\n",
      "a=0.0, r=1, gamma=20.040858725761773\n",
      "a=0.0, r=1, gamma=20.040858725761773\n",
      "a=0.0, r=1, gamma=20.040858725761773\n",
      "a=0.0, r=1, gamma=20.040858725761773\n",
      "a=0.0, r=1, gamma=20.040858725761773\n",
      "<class 'sklearn.pipeline.Pipeline'>\n",
      "a=0.0, r=1, gamma=20.040858725761773\n",
      "a=0.0, r=1, gamma=20.040858725761773\n",
      "a=0.0, r=1, gamma=20.040858725761773\n",
      "a=0.0, r=1, gamma=20.040858725761773\n",
      "a=0.0, r=1, gamma=20.040858725761773\n",
      "<class 'sklearn.pipeline.Pipeline'>\n",
      "a=0.0, r=1, gamma=20.040858725761773\n",
      "a=0.0, r=1, gamma=20.040858725761773\n",
      "a=0.0, r=1, gamma=20.040858725761773\n",
      "a=0.0, r=1, gamma=20.040858725761773\n",
      "a=0.0, r=1, gamma=20.040858725761773\n",
      "<class 'sklearn.pipeline.Pipeline'>\n",
      "a=0.0, r=1, gamma=20.040858725761773\n",
      "a=0.0, r=1, gamma=20.040858725761773\n",
      "a=0.0, r=1, gamma=20.040858725761773\n",
      "a=0.0, r=1, gamma=20.040858725761773\n",
      "a=0.0, r=1, gamma=20.040858725761773\n",
      "<class 'sklearn.pipeline.Pipeline'>\n",
      "a=0.0, r=1, gamma=20.040858725761773\n",
      "a=0.0, r=1, gamma=20.040858725761773\n",
      "a=0.0, r=1, gamma=20.040858725761773\n",
      "a=0.0, r=1, gamma=20.040858725761773\n",
      "a=0.0, r=1, gamma=20.040858725761773\n",
      "<class 'sklearn.pipeline.Pipeline'>\n",
      "a=0.0, r=1, gamma=20.040858725761773\n",
      "a=0.0, r=1, gamma=20.040858725761773\n",
      "a=0.0, r=1, gamma=20.040858725761773\n",
      "a=0.0, r=1, gamma=20.040858725761773\n",
      "a=0.0, r=1, gamma=20.040858725761773\n",
      "<class 'sklearn.pipeline.Pipeline'>\n",
      "a=0.0, r=1, gamma=20.040858725761773\n",
      "a=0.0, r=1, gamma=20.040858725761773\n",
      "a=0.0, r=1, gamma=20.040858725761773\n",
      "a=0.0, r=1, gamma=20.040858725761773\n",
      "a=0.0, r=1, gamma=20.040858725761773\n",
      "<class 'sklearn.pipeline.Pipeline'>\n",
      "a=0.0, r=1, gamma=20.040858725761773\n",
      "a=0.0, r=1, gamma=20.040858725761773\n",
      "a=0.0, r=1, gamma=20.040858725761773\n",
      "a=0.0, r=1, gamma=20.040858725761773\n",
      "a=0.0, r=1, gamma=20.040858725761773\n",
      "<class 'sklearn.pipeline.Pipeline'>\n",
      "a=0.0, r=1, gamma=20.040858725761773\n",
      "a=0.0, r=1, gamma=20.040858725761773\n",
      "a=0.0, r=1, gamma=20.040858725761773\n",
      "a=0.0, r=1, gamma=20.040858725761773\n",
      "a=0.0, r=1, gamma=20.040858725761773\n",
      "<class 'sklearn.pipeline.Pipeline'>\n",
      "a=0.0, r=1, gamma=20.040858725761773\n",
      "a=0.0, r=1, gamma=20.040858725761773\n",
      "a=0.0, r=1, gamma=20.040858725761773\n",
      "a=0.0, r=1, gamma=20.040858725761773\n",
      "a=0.0, r=1, gamma=20.040858725761773\n",
      "<class 'sklearn.pipeline.Pipeline'>\n",
      "a=0.0, r=1, gamma=20.040858725761773\n",
      "a=0.0, r=1, gamma=20.040858725761773\n",
      "a=0.0, r=1, gamma=20.040858725761773\n",
      "a=0.0, r=1, gamma=20.040858725761773\n",
      "a=0.0, r=1, gamma=20.040858725761773\n",
      "<class 'sklearn.pipeline.Pipeline'>\n",
      "a=0.0, r=1, gamma=20.040858725761773\n",
      "a=0.0, r=1, gamma=20.040858725761773\n",
      "a=0.0, r=1, gamma=20.040858725761773\n",
      "a=0.0, r=1, gamma=20.040858725761773\n",
      "a=0.0, r=1, gamma=20.040858725761773\n"
     ]
    },
    {
     "data": {
      "image/png": "[encoded data removed]",
      "text/plain": [
       "<Figure size 1440x360 with 4 Axes>"
      ]
     },
     "metadata": {
      "needs_background": "light"
     },
     "output_type": "display_data"
    }
   ],
   "source": [
    "# optimize hidden_layer_sizes\n",
    "X_train, X_test, y_train, y_test = train_test_split(X, y, test_size=0.3, random_state=42)\n",
    "\n",
    "param_range = range(2, 101, 2)\n",
    "scoring = ['accuracy', 'f1', 'recall', 'precision']\n",
    "\n",
    "cv = StratifiedKFold(n_splits=2, shuffle=True, random_state=0)\n",
    "classifier = MLPClassifier(solver='adam', activation='relu', alpha=1e-4, random_state=0, max_iter=2000)\n",
    "\n",
    "results_store, plt = plot_validation_curve_with_undersampling(classifier, X_train, y_train, \n",
    "                      param_name='hidden_layer_sizes', param_range=param_range, fit_params=None, error_score='raise',\n",
    "                      cv=cv, scoring=scoring, n_jobs=8, iterations=5, undersampling_ratio=1, is_pipe=True, \n",
    "                                                              x_axis_is_log=True)\n"
   ]
  },
  {
   "cell_type": "code",
   "execution_count": 11,
   "id": "61062e68",
   "metadata": {
    "scrolled": true
   },
   "outputs": [
    {
     "name": "stdout",
     "output_type": "stream",
     "text": [
      "<class 'sklearn.pipeline.Pipeline'>\n",
      "a=0.0, r=1, gamma=20.040858725761773\n",
      "a=0.0, r=1, gamma=20.040858725761773\n",
      "a=0.0, r=1, gamma=20.040858725761773\n",
      "a=0.0, r=1, gamma=20.040858725761773\n",
      "a=0.0, r=1, gamma=20.040858725761773\n",
      "<class 'sklearn.pipeline.Pipeline'>\n",
      "a=0.0, r=1, gamma=20.040858725761773\n",
      "a=0.0, r=1, gamma=20.040858725761773\n",
      "a=0.0, r=1, gamma=20.040858725761773\n",
      "a=0.0, r=1, gamma=20.040858725761773\n",
      "a=0.0, r=1, gamma=20.040858725761773\n",
      "<class 'sklearn.pipeline.Pipeline'>\n",
      "a=0.0, r=1, gamma=20.040858725761773\n",
      "a=0.0, r=1, gamma=20.040858725761773\n",
      "a=0.0, r=1, gamma=20.040858725761773\n",
      "a=0.0, r=1, gamma=20.040858725761773\n",
      "a=0.0, r=1, gamma=20.040858725761773\n",
      "<class 'sklearn.pipeline.Pipeline'>\n",
      "a=0.0, r=1, gamma=20.040858725761773\n",
      "a=0.0, r=1, gamma=20.040858725761773\n",
      "a=0.0, r=1, gamma=20.040858725761773\n",
      "a=0.0, r=1, gamma=20.040858725761773\n",
      "a=0.0, r=1, gamma=20.040858725761773\n",
      "<class 'sklearn.pipeline.Pipeline'>\n",
      "a=0.0, r=1, gamma=20.040858725761773\n",
      "a=0.0, r=1, gamma=20.040858725761773\n",
      "a=0.0, r=1, gamma=20.040858725761773\n",
      "a=0.0, r=1, gamma=20.040858725761773\n",
      "a=0.0, r=1, gamma=20.040858725761773\n",
      "<class 'sklearn.pipeline.Pipeline'>\n",
      "a=0.0, r=1, gamma=20.040858725761773\n",
      "a=0.0, r=1, gamma=20.040858725761773\n",
      "a=0.0, r=1, gamma=20.040858725761773\n",
      "a=0.0, r=1, gamma=20.040858725761773\n",
      "a=0.0, r=1, gamma=20.040858725761773\n",
      "<class 'sklearn.pipeline.Pipeline'>\n",
      "a=0.0, r=1, gamma=20.040858725761773\n",
      "a=0.0, r=1, gamma=20.040858725761773\n",
      "a=0.0, r=1, gamma=20.040858725761773\n",
      "a=0.0, r=1, gamma=20.040858725761773\n",
      "a=0.0, r=1, gamma=20.040858725761773\n",
      "<class 'sklearn.pipeline.Pipeline'>\n",
      "a=0.0, r=1, gamma=20.040858725761773\n",
      "a=0.0, r=1, gamma=20.040858725761773\n",
      "a=0.0, r=1, gamma=20.040858725761773\n",
      "a=0.0, r=1, gamma=20.040858725761773\n",
      "a=0.0, r=1, gamma=20.040858725761773\n",
      "<class 'sklearn.pipeline.Pipeline'>\n",
      "a=0.0, r=1, gamma=20.040858725761773\n",
      "a=0.0, r=1, gamma=20.040858725761773\n",
      "a=0.0, r=1, gamma=20.040858725761773\n",
      "a=0.0, r=1, gamma=20.040858725761773\n",
      "a=0.0, r=1, gamma=20.040858725761773\n",
      "<class 'sklearn.pipeline.Pipeline'>\n",
      "a=0.0, r=1, gamma=20.040858725761773\n",
      "a=0.0, r=1, gamma=20.040858725761773\n",
      "a=0.0, r=1, gamma=20.040858725761773\n",
      "a=0.0, r=1, gamma=20.040858725761773\n",
      "a=0.0, r=1, gamma=20.040858725761773\n",
      "<class 'sklearn.pipeline.Pipeline'>\n",
      "a=0.0, r=1, gamma=20.040858725761773\n",
      "a=0.0, r=1, gamma=20.040858725761773\n",
      "a=0.0, r=1, gamma=20.040858725761773\n",
      "a=0.0, r=1, gamma=20.040858725761773\n",
      "a=0.0, r=1, gamma=20.040858725761773\n",
      "<class 'sklearn.pipeline.Pipeline'>\n",
      "a=0.0, r=1, gamma=20.040858725761773\n",
      "a=0.0, r=1, gamma=20.040858725761773\n",
      "a=0.0, r=1, gamma=20.040858725761773\n",
      "a=0.0, r=1, gamma=20.040858725761773\n",
      "a=0.0, r=1, gamma=20.040858725761773\n",
      "<class 'sklearn.pipeline.Pipeline'>\n",
      "a=0.0, r=1, gamma=20.040858725761773\n",
      "a=0.0, r=1, gamma=20.040858725761773\n",
      "a=0.0, r=1, gamma=20.040858725761773\n",
      "a=0.0, r=1, gamma=20.040858725761773\n",
      "a=0.0, r=1, gamma=20.040858725761773\n",
      "<class 'sklearn.pipeline.Pipeline'>\n",
      "a=0.0, r=1, gamma=20.040858725761773\n",
      "a=0.0, r=1, gamma=20.040858725761773\n",
      "a=0.0, r=1, gamma=20.040858725761773\n",
      "a=0.0, r=1, gamma=20.040858725761773\n",
      "a=0.0, r=1, gamma=20.040858725761773\n",
      "<class 'sklearn.pipeline.Pipeline'>\n",
      "a=0.0, r=1, gamma=20.040858725761773\n",
      "a=0.0, r=1, gamma=20.040858725761773\n",
      "a=0.0, r=1, gamma=20.040858725761773\n",
      "a=0.0, r=1, gamma=20.040858725761773\n",
      "a=0.0, r=1, gamma=20.040858725761773\n",
      "<class 'sklearn.pipeline.Pipeline'>\n",
      "a=0.0, r=1, gamma=20.040858725761773\n",
      "a=0.0, r=1, gamma=20.040858725761773\n",
      "a=0.0, r=1, gamma=20.040858725761773\n",
      "a=0.0, r=1, gamma=20.040858725761773\n",
      "a=0.0, r=1, gamma=20.040858725761773\n",
      "<class 'sklearn.pipeline.Pipeline'>\n",
      "a=0.0, r=1, gamma=20.040858725761773\n",
      "a=0.0, r=1, gamma=20.040858725761773\n",
      "a=0.0, r=1, gamma=20.040858725761773\n",
      "a=0.0, r=1, gamma=20.040858725761773\n",
      "a=0.0, r=1, gamma=20.040858725761773\n",
      "<class 'sklearn.pipeline.Pipeline'>\n",
      "a=0.0, r=1, gamma=20.040858725761773\n",
      "a=0.0, r=1, gamma=20.040858725761773\n",
      "a=0.0, r=1, gamma=20.040858725761773\n",
      "a=0.0, r=1, gamma=20.040858725761773\n",
      "a=0.0, r=1, gamma=20.040858725761773\n",
      "<class 'sklearn.pipeline.Pipeline'>\n",
      "a=0.0, r=1, gamma=20.040858725761773\n",
      "a=0.0, r=1, gamma=20.040858725761773\n",
      "a=0.0, r=1, gamma=20.040858725761773\n",
      "a=0.0, r=1, gamma=20.040858725761773\n",
      "a=0.0, r=1, gamma=20.040858725761773\n",
      "<class 'sklearn.pipeline.Pipeline'>\n",
      "a=0.0, r=1, gamma=20.040858725761773\n",
      "a=0.0, r=1, gamma=20.040858725761773\n",
      "a=0.0, r=1, gamma=20.040858725761773\n",
      "a=0.0, r=1, gamma=20.040858725761773\n",
      "a=0.0, r=1, gamma=20.040858725761773\n",
      "<class 'sklearn.pipeline.Pipeline'>\n",
      "a=0.0, r=1, gamma=20.040858725761773\n",
      "a=0.0, r=1, gamma=20.040858725761773\n",
      "a=0.0, r=1, gamma=20.040858725761773\n",
      "a=0.0, r=1, gamma=20.040858725761773\n",
      "a=0.0, r=1, gamma=20.040858725761773\n",
      "<class 'sklearn.pipeline.Pipeline'>\n",
      "a=0.0, r=1, gamma=20.040858725761773\n",
      "a=0.0, r=1, gamma=20.040858725761773\n",
      "a=0.0, r=1, gamma=20.040858725761773\n",
      "a=0.0, r=1, gamma=20.040858725761773\n",
      "a=0.0, r=1, gamma=20.040858725761773\n",
      "<class 'sklearn.pipeline.Pipeline'>\n",
      "a=0.0, r=1, gamma=20.040858725761773\n",
      "a=0.0, r=1, gamma=20.040858725761773\n",
      "a=0.0, r=1, gamma=20.040858725761773\n",
      "a=0.0, r=1, gamma=20.040858725761773\n",
      "a=0.0, r=1, gamma=20.040858725761773\n",
      "<class 'sklearn.pipeline.Pipeline'>\n",
      "a=0.0, r=1, gamma=20.040858725761773\n",
      "a=0.0, r=1, gamma=20.040858725761773\n",
      "a=0.0, r=1, gamma=20.040858725761773\n",
      "a=0.0, r=1, gamma=20.040858725761773\n",
      "a=0.0, r=1, gamma=20.040858725761773\n",
      "<class 'sklearn.pipeline.Pipeline'>\n",
      "a=0.0, r=1, gamma=20.040858725761773\n",
      "a=0.0, r=1, gamma=20.040858725761773\n",
      "a=0.0, r=1, gamma=20.040858725761773\n",
      "a=0.0, r=1, gamma=20.040858725761773\n",
      "a=0.0, r=1, gamma=20.040858725761773\n",
      "<class 'sklearn.pipeline.Pipeline'>\n",
      "a=0.0, r=1, gamma=20.040858725761773\n",
      "a=0.0, r=1, gamma=20.040858725761773\n",
      "a=0.0, r=1, gamma=20.040858725761773\n",
      "a=0.0, r=1, gamma=20.040858725761773\n",
      "a=0.0, r=1, gamma=20.040858725761773\n",
      "<class 'sklearn.pipeline.Pipeline'>\n",
      "a=0.0, r=1, gamma=20.040858725761773\n",
      "a=0.0, r=1, gamma=20.040858725761773\n",
      "a=0.0, r=1, gamma=20.040858725761773\n",
      "a=0.0, r=1, gamma=20.040858725761773\n",
      "a=0.0, r=1, gamma=20.040858725761773\n",
      "<class 'sklearn.pipeline.Pipeline'>\n",
      "a=0.0, r=1, gamma=20.040858725761773\n",
      "a=0.0, r=1, gamma=20.040858725761773\n",
      "a=0.0, r=1, gamma=20.040858725761773\n",
      "a=0.0, r=1, gamma=20.040858725761773\n",
      "a=0.0, r=1, gamma=20.040858725761773\n",
      "<class 'sklearn.pipeline.Pipeline'>\n",
      "a=0.0, r=1, gamma=20.040858725761773\n",
      "a=0.0, r=1, gamma=20.040858725761773\n",
      "a=0.0, r=1, gamma=20.040858725761773\n",
      "a=0.0, r=1, gamma=20.040858725761773\n",
      "a=0.0, r=1, gamma=20.040858725761773\n",
      "<class 'sklearn.pipeline.Pipeline'>\n",
      "a=0.0, r=1, gamma=20.040858725761773\n",
      "a=0.0, r=1, gamma=20.040858725761773\n",
      "a=0.0, r=1, gamma=20.040858725761773\n",
      "a=0.0, r=1, gamma=20.040858725761773\n",
      "a=0.0, r=1, gamma=20.040858725761773\n",
      "<class 'sklearn.pipeline.Pipeline'>\n",
      "a=0.0, r=1, gamma=20.040858725761773\n",
      "a=0.0, r=1, gamma=20.040858725761773\n",
      "a=0.0, r=1, gamma=20.040858725761773\n",
      "a=0.0, r=1, gamma=20.040858725761773\n",
      "a=0.0, r=1, gamma=20.040858725761773\n",
      "<class 'sklearn.pipeline.Pipeline'>\n",
      "a=0.0, r=1, gamma=20.040858725761773\n",
      "a=0.0, r=1, gamma=20.040858725761773\n",
      "a=0.0, r=1, gamma=20.040858725761773\n",
      "a=0.0, r=1, gamma=20.040858725761773\n",
      "a=0.0, r=1, gamma=20.040858725761773\n",
      "<class 'sklearn.pipeline.Pipeline'>\n",
      "a=0.0, r=1, gamma=20.040858725761773\n",
      "a=0.0, r=1, gamma=20.040858725761773\n",
      "a=0.0, r=1, gamma=20.040858725761773\n",
      "a=0.0, r=1, gamma=20.040858725761773\n",
      "a=0.0, r=1, gamma=20.040858725761773\n",
      "<class 'sklearn.pipeline.Pipeline'>\n",
      "a=0.0, r=1, gamma=20.040858725761773\n",
      "a=0.0, r=1, gamma=20.040858725761773\n",
      "a=0.0, r=1, gamma=20.040858725761773\n",
      "a=0.0, r=1, gamma=20.040858725761773\n",
      "a=0.0, r=1, gamma=20.040858725761773\n",
      "<class 'sklearn.pipeline.Pipeline'>\n",
      "a=0.0, r=1, gamma=20.040858725761773\n",
      "a=0.0, r=1, gamma=20.040858725761773\n",
      "a=0.0, r=1, gamma=20.040858725761773\n",
      "a=0.0, r=1, gamma=20.040858725761773\n",
      "a=0.0, r=1, gamma=20.040858725761773\n"
     ]
    },
    {
     "data": {
      "image/png": "[encoded data removed]",
      "text/plain": [
       "<Figure size 1440x360 with 4 Axes>"
      ]
     },
     "metadata": {
      "needs_background": "light"
     },
     "output_type": "display_data"
    }
   ],
   "source": [
    "# optimize hidden_layer_sizes\n",
    "X_train, X_test, y_train, y_test = train_test_split(X, y, test_size=0.3, random_state=42)\n",
    "\n",
    "param_range = list(range(2, 100, 4)) + list(range(100, 200, 10))\n",
    "scoring = ['accuracy', 'f1', 'recall', 'precision']\n",
    "\n",
    "cv = StratifiedKFold(n_splits=2, shuffle=True, random_state=0)\n",
    "classifier = MLPClassifier(solver='adam', activation='relu', alpha=1e-4, random_state=0, max_iter=3000)\n",
    "\n",
    "results_store, plt = plot_validation_curve_with_undersampling(classifier, X_train, y_train, \n",
    "                      param_name='hidden_layer_sizes', param_range=param_range, fit_params=None, error_score='raise',\n",
    "                      cv=cv, scoring=scoring, n_jobs=8, iterations=5, undersampling_ratio=1, is_pipe=True, \n",
    "                                                              x_axis_is_log=True)\n"
   ]
  },
  {
   "cell_type": "code",
   "execution_count": 12,
   "id": "d4b26417",
   "metadata": {},
   "outputs": [
    {
     "data": {
      "text/plain": [
       "{'fit_time': array([[  2.        ,   1.22891343,   0.25043514],\n",
       "        [  6.        ,   3.08294787,   0.66600306],\n",
       "        [ 10.        ,   5.8997761 ,   1.0109449 ],\n",
       "        [ 14.        ,   8.30425966,   1.95623437],\n",
       "        [ 18.        ,   7.48260176,   1.21349347],\n",
       "        [ 22.        ,   7.87944758,   1.65178883],\n",
       "        [ 26.        ,   7.23668962,   1.94502142],\n",
       "        [ 30.        ,   7.822807  ,   1.6101497 ],\n",
       "        [ 34.        ,   8.03279555,   1.73015271],\n",
       "        [ 38.        ,   9.70688071,   1.04461866],\n",
       "        [ 42.        ,   9.63787663,   1.07987466],\n",
       "        [ 46.        ,   8.62356064,   1.89436637],\n",
       "        [ 50.        ,   7.7243813 ,   2.02966253],\n",
       "        [ 54.        ,   8.75873835,   2.21305599],\n",
       "        [ 58.        ,   8.57100062,   1.99850629],\n",
       "        [ 62.        ,   8.13221326,   1.59196835],\n",
       "        [ 66.        ,   8.38292711,   1.42467948],\n",
       "        [ 70.        ,   8.79077508,   2.15165885],\n",
       "        [ 74.        ,  10.17212982,   2.16083682],\n",
       "        [ 78.        ,   8.5466629 ,   2.26987176],\n",
       "        [ 82.        ,   9.15395422,   2.74461426],\n",
       "        [ 86.        ,  10.76400516,   2.01735657],\n",
       "        [ 90.        ,   9.57992392,   2.35996586],\n",
       "        [ 94.        ,  10.80500264,   1.58248407],\n",
       "        [ 98.        ,  10.14167893,   2.53308129],\n",
       "        [100.        ,  10.13437393,   1.50303378],\n",
       "        [110.        ,   8.86692724,   2.55543295],\n",
       "        [120.        ,  10.89619374,   3.2962831 ],\n",
       "        [130.        ,  10.98130364,   2.1470109 ],\n",
       "        [140.        ,   9.32611375,   2.27362275],\n",
       "        [150.        ,  10.43353283,   3.08123606],\n",
       "        [160.        ,  10.58431342,   2.35495998],\n",
       "        [170.        ,  10.34480546,   2.83169044],\n",
       "        [180.        ,  11.76227198,   5.01104446],\n",
       "        [190.        ,   9.71114798,   1.72520493]]),\n",
       " 'score_time': array([[2.00000000e+00, 5.02932072e-03, 2.66653765e-04],\n",
       "        [6.00000000e+00, 4.90381718e-03, 3.40295723e-04],\n",
       "        [1.00000000e+01, 1.04492187e-02, 8.27934125e-03],\n",
       "        [1.40000000e+01, 7.87284374e-03, 5.36935656e-03],\n",
       "        [1.80000000e+01, 9.73834991e-03, 7.65716572e-03],\n",
       "        [2.20000000e+01, 9.19823647e-03, 6.91551761e-03],\n",
       "        [2.60000000e+01, 9.21707153e-03, 7.73354617e-03],\n",
       "        [3.00000000e+01, 8.66370201e-03, 6.49997208e-03],\n",
       "        [3.40000000e+01, 9.02817249e-03, 6.54136456e-03],\n",
       "        [3.80000000e+01, 7.59320259e-03, 5.37109969e-03],\n",
       "        [4.20000000e+01, 1.79078817e-02, 1.24473015e-02],\n",
       "        [4.60000000e+01, 7.52148628e-03, 5.03704997e-03],\n",
       "        [5.00000000e+01, 7.57973194e-03, 5.16629178e-03],\n",
       "        [5.40000000e+01, 7.60257244e-03, 5.46349040e-03],\n",
       "        [5.80000000e+01, 7.49585629e-03, 4.70778506e-03],\n",
       "        [6.20000000e+01, 8.54225159e-03, 6.08252900e-03],\n",
       "        [6.60000000e+01, 7.68141747e-03, 5.01850162e-03],\n",
       "        [7.00000000e+01, 1.12470627e-02, 8.07464536e-03],\n",
       "        [7.40000000e+01, 1.33263111e-02, 8.97637303e-03],\n",
       "        [7.80000000e+01, 6.46548271e-03, 1.59038288e-03],\n",
       "        [8.20000000e+01, 1.39276505e-02, 1.01499725e-02],\n",
       "        [8.60000000e+01, 1.24304533e-02, 8.78606502e-03],\n",
       "        [9.00000000e+01, 9.28645134e-03, 5.93633507e-03],\n",
       "        [9.40000000e+01, 1.05699062e-02, 7.71920488e-03],\n",
       "        [9.80000000e+01, 8.92004967e-03, 5.66930991e-03],\n",
       "        [1.00000000e+02, 1.05641365e-02, 7.25111785e-03],\n",
       "        [1.10000000e+02, 1.06482267e-02, 7.49781575e-03],\n",
       "        [1.20000000e+02, 6.95035458e-03, 2.23869293e-04],\n",
       "        [1.30000000e+02, 6.99691772e-03, 2.60172242e-04],\n",
       "        [1.40000000e+02, 7.37836361e-03, 1.77649568e-04],\n",
       "        [1.50000000e+02, 7.44111538e-03, 2.08148624e-04],\n",
       "        [1.60000000e+02, 1.31614685e-02, 9.27812281e-03],\n",
       "        [1.70000000e+02, 7.24384785e-03, 2.08270917e-04],\n",
       "        [1.80000000e+02, 1.13050938e-02, 8.11421803e-03],\n",
       "        [1.90000000e+02, 7.68268108e-03, 3.63034456e-04]]),\n",
       " 'test_accuracy': array([[2.00000000e+00, 6.89058172e-01, 1.20943554e-02],\n",
       "        [6.00000000e+00, 7.07963989e-01, 1.07688651e-02],\n",
       "        [1.00000000e+01, 7.14473684e-01, 1.12181953e-02],\n",
       "        [1.40000000e+01, 7.20290859e-01, 1.62305656e-02],\n",
       "        [1.80000000e+01, 7.17313019e-01, 1.64720983e-02],\n",
       "        [2.20000000e+01, 7.21468144e-01, 1.96529539e-02],\n",
       "        [2.60000000e+01, 7.22022161e-01, 1.42470897e-02],\n",
       "        [3.00000000e+01, 7.24722992e-01, 1.69016218e-02],\n",
       "        [3.40000000e+01, 7.22506925e-01, 2.53750990e-02],\n",
       "        [3.80000000e+01, 7.36980609e-01, 1.03173975e-02],\n",
       "        [4.20000000e+01, 7.42036011e-01, 1.32387442e-02],\n",
       "        [4.60000000e+01, 7.26177285e-01, 1.04531647e-02],\n",
       "        [5.00000000e+01, 7.25415512e-01, 1.21665080e-02],\n",
       "        [5.40000000e+01, 7.30332410e-01, 1.29046931e-02],\n",
       "        [5.80000000e+01, 7.24722992e-01, 2.17284946e-02],\n",
       "        [6.20000000e+01, 7.23130194e-01, 1.75025635e-02],\n",
       "        [6.60000000e+01, 7.36011080e-01, 1.23175289e-02],\n",
       "        [7.00000000e+01, 7.29778393e-01, 1.58095076e-02],\n",
       "        [7.40000000e+01, 7.24584488e-01, 1.41010903e-02],\n",
       "        [7.80000000e+01, 7.24030471e-01, 1.42371560e-02],\n",
       "        [8.20000000e+01, 7.32271468e-01, 1.44443300e-02],\n",
       "        [8.60000000e+01, 7.33033241e-01, 1.65692018e-02],\n",
       "        [9.00000000e+01, 7.32479224e-01, 1.56149231e-02],\n",
       "        [9.40000000e+01, 7.25900277e-01, 1.42995060e-02],\n",
       "        [9.80000000e+01, 7.25207756e-01, 1.78525355e-02],\n",
       "        [1.00000000e+02, 7.25138504e-01, 1.61654287e-02],\n",
       "        [1.10000000e+02, 7.21121884e-01, 1.21262346e-02],\n",
       "        [1.20000000e+02, 7.31232687e-01, 1.59443791e-02],\n",
       "        [1.30000000e+02, 7.31994460e-01, 6.92520776e-03],\n",
       "        [1.40000000e+02, 7.21814404e-01, 1.84944542e-02],\n",
       "        [1.50000000e+02, 7.41551247e-01, 1.16203253e-02],\n",
       "        [1.60000000e+02, 7.23268698e-01, 1.65313862e-02],\n",
       "        [1.70000000e+02, 7.18836565e-01, 2.05574883e-02],\n",
       "        [1.80000000e+02, 7.19875346e-01, 1.10380513e-02],\n",
       "        [1.90000000e+02, 7.27839335e-01, 1.56301187e-02]]),\n",
       " 'train_accuracy': array([[2.00000000e+00, 7.13019391e-01, 1.35677528e-02],\n",
       "        [6.00000000e+00, 7.69182825e-01, 1.29893344e-02],\n",
       "        [1.00000000e+01, 8.00069252e-01, 1.82936936e-02],\n",
       "        [1.40000000e+01, 8.42728532e-01, 2.84717012e-02],\n",
       "        [1.80000000e+01, 8.47022161e-01, 1.76761095e-02],\n",
       "        [2.20000000e+01, 8.68351801e-01, 3.06942989e-02],\n",
       "        [2.60000000e+01, 8.79224377e-01, 1.75965700e-02],\n",
       "        [3.00000000e+01, 8.86911357e-01, 2.84592337e-02],\n",
       "        [3.40000000e+01, 8.97299169e-01, 4.27729558e-02],\n",
       "        [3.80000000e+01, 9.16620499e-01, 2.62431568e-02],\n",
       "        [4.20000000e+01, 9.24099723e-01, 2.39680230e-02],\n",
       "        [4.60000000e+01, 9.18836565e-01, 2.60811084e-02],\n",
       "        [5.00000000e+01, 8.98753463e-01, 2.14967194e-02],\n",
       "        [5.40000000e+01, 9.23476454e-01, 2.83616640e-02],\n",
       "        [5.80000000e+01, 9.14127424e-01, 3.33072977e-02],\n",
       "        [6.20000000e+01, 9.05678670e-01, 3.02652972e-02],\n",
       "        [6.60000000e+01, 9.27146814e-01, 3.93639433e-02],\n",
       "        [7.00000000e+01, 9.24584488e-01, 2.72143043e-02],\n",
       "        [7.40000000e+01, 9.15373961e-01, 3.75187790e-02],\n",
       "        [7.80000000e+01, 9.22368421e-01, 2.30151442e-02],\n",
       "        [8.20000000e+01, 9.20290859e-01, 3.29401931e-02],\n",
       "        [8.60000000e+01, 9.48130194e-01, 3.11487346e-02],\n",
       "        [9.00000000e+01, 9.32479224e-01, 2.53924809e-02],\n",
       "        [9.40000000e+01, 9.50761773e-01, 2.17532009e-02],\n",
       "        [9.80000000e+01, 9.26038781e-01, 3.09732578e-02],\n",
       "        [1.00000000e+02, 9.32617729e-01, 2.81644888e-02],\n",
       "        [1.10000000e+02, 9.13711911e-01, 2.17482398e-02],\n",
       "        [1.20000000e+02, 9.40581717e-01, 2.82558660e-02],\n",
       "        [1.30000000e+02, 9.52146814e-01, 3.05502147e-02],\n",
       "        [1.40000000e+02, 9.16828255e-01, 3.85609721e-02],\n",
       "        [1.50000000e+02, 9.46537396e-01, 2.97635729e-02],\n",
       "        [1.60000000e+02, 9.40373961e-01, 2.25307779e-02],\n",
       "        [1.70000000e+02, 9.31163435e-01, 4.26372393e-02],\n",
       "        [1.80000000e+02, 9.40027701e-01, 3.93205466e-02],\n",
       "        [1.90000000e+02, 9.41481994e-01, 1.99831547e-02]]),\n",
       " 'test_f1': array([[2.00000000e+00, 6.80352046e-01, 1.47583209e-02],\n",
       "        [6.00000000e+00, 7.06316249e-01, 1.34827615e-02],\n",
       "        [1.00000000e+01, 7.13084629e-01, 1.17924360e-02],\n",
       "        [1.40000000e+01, 7.21650978e-01, 1.81484596e-02],\n",
       "        [1.80000000e+01, 7.19022527e-01, 1.46493562e-02],\n",
       "        [2.20000000e+01, 7.19635968e-01, 1.87518198e-02],\n",
       "        [2.60000000e+01, 7.23249794e-01, 1.36804301e-02],\n",
       "        [3.00000000e+01, 7.25194377e-01, 1.72906040e-02],\n",
       "        [3.40000000e+01, 7.21989727e-01, 2.84553569e-02],\n",
       "        [3.80000000e+01, 7.38327091e-01, 1.24496989e-02],\n",
       "        [4.20000000e+01, 7.40322572e-01, 1.65476520e-02],\n",
       "        [4.60000000e+01, 7.24016652e-01, 9.26368282e-03],\n",
       "        [5.00000000e+01, 7.23016086e-01, 1.32400925e-02],\n",
       "        [5.40000000e+01, 7.30005484e-01, 1.19966921e-02],\n",
       "        [5.80000000e+01, 7.23003292e-01, 2.42274079e-02],\n",
       "        [6.20000000e+01, 7.26056511e-01, 1.74741832e-02],\n",
       "        [6.60000000e+01, 7.37154754e-01, 1.41970442e-02],\n",
       "        [7.00000000e+01, 7.26648863e-01, 1.76282669e-02],\n",
       "        [7.40000000e+01, 7.23065767e-01, 1.61791004e-02],\n",
       "        [7.80000000e+01, 7.25269805e-01, 1.68979487e-02],\n",
       "        [8.20000000e+01, 7.31916370e-01, 1.65967179e-02],\n",
       "        [8.60000000e+01, 7.34169661e-01, 1.75683578e-02],\n",
       "        [9.00000000e+01, 7.34520182e-01, 1.66861713e-02],\n",
       "        [9.40000000e+01, 7.24777360e-01, 1.53868205e-02],\n",
       "        [9.80000000e+01, 7.26473109e-01, 2.12274698e-02],\n",
       "        [1.00000000e+02, 7.22739670e-01, 1.95309501e-02],\n",
       "        [1.10000000e+02, 7.20961840e-01, 1.28768438e-02],\n",
       "        [1.20000000e+02, 7.29679126e-01, 1.73013104e-02],\n",
       "        [1.30000000e+02, 7.33478736e-01, 6.67790728e-03],\n",
       "        [1.40000000e+02, 7.22034853e-01, 1.80710833e-02],\n",
       "        [1.50000000e+02, 7.40949952e-01, 1.56067316e-02],\n",
       "        [1.60000000e+02, 7.26281249e-01, 1.84585419e-02],\n",
       "        [1.70000000e+02, 7.17253893e-01, 2.34542124e-02],\n",
       "        [1.80000000e+02, 7.21755556e-01, 1.34466254e-02],\n",
       "        [1.90000000e+02, 7.30910824e-01, 1.54149954e-02]]),\n",
       " 'train_f1': array([[2.00000000e+00, 7.05821613e-01, 1.60935514e-02],\n",
       "        [6.00000000e+00, 7.69291032e-01, 1.22562886e-02],\n",
       "        [1.00000000e+01, 8.01130251e-01, 1.74730625e-02],\n",
       "        [1.40000000e+01, 8.43124187e-01, 2.94422676e-02],\n",
       "        [1.80000000e+01, 8.46373658e-01, 1.62076906e-02],\n",
       "        [2.20000000e+01, 8.67581824e-01, 3.12455265e-02],\n",
       "        [2.60000000e+01, 8.80241493e-01, 1.74203376e-02],\n",
       "        [3.00000000e+01, 8.86749577e-01, 2.87655842e-02],\n",
       "        [3.40000000e+01, 8.96642897e-01, 4.35113405e-02],\n",
       "        [3.80000000e+01, 9.16059248e-01, 2.66933876e-02],\n",
       "        [4.20000000e+01, 9.24182597e-01, 2.41064935e-02],\n",
       "        [4.60000000e+01, 9.18211854e-01, 2.63702940e-02],\n",
       "        [5.00000000e+01, 8.98151608e-01, 2.17258148e-02],\n",
       "        [5.40000000e+01, 9.23335709e-01, 2.82379472e-02],\n",
       "        [5.80000000e+01, 9.13494359e-01, 3.34627100e-02],\n",
       "        [6.20000000e+01, 9.06646791e-01, 2.90794868e-02],\n",
       "        [6.60000000e+01, 9.27033657e-01, 3.93504919e-02],\n",
       "        [7.00000000e+01, 9.23762279e-01, 2.76728554e-02],\n",
       "        [7.40000000e+01, 9.14998587e-01, 3.76083176e-02],\n",
       "        [7.80000000e+01, 9.22398447e-01, 2.33121297e-02],\n",
       "        [8.20000000e+01, 9.19742698e-01, 3.28479004e-02],\n",
       "        [8.60000000e+01, 9.48069990e-01, 3.10699103e-02],\n",
       "        [9.00000000e+01, 9.32181737e-01, 2.57940869e-02],\n",
       "        [9.40000000e+01, 9.50527957e-01, 2.17291955e-02],\n",
       "        [9.80000000e+01, 9.25747797e-01, 3.09717435e-02],\n",
       "        [1.00000000e+02, 9.31955093e-01, 2.90021487e-02],\n",
       "        [1.10000000e+02, 9.12853845e-01, 2.24280203e-02],\n",
       "        [1.20000000e+02, 9.39781553e-01, 2.87619679e-02],\n",
       "        [1.30000000e+02, 9.52227171e-01, 3.03474705e-02],\n",
       "        [1.40000000e+02, 9.17030464e-01, 3.75034450e-02],\n",
       "        [1.50000000e+02, 9.45877071e-01, 3.03656079e-02],\n",
       "        [1.60000000e+02, 9.40411482e-01, 2.23613110e-02],\n",
       "        [1.70000000e+02, 9.30759481e-01, 4.31152033e-02],\n",
       "        [1.80000000e+02, 9.39728633e-01, 3.96969440e-02],\n",
       "        [1.90000000e+02, 9.41790090e-01, 1.97453174e-02]]),\n",
       " 'test_recall': array([[2.00000000e+00, 6.62326870e-01, 2.42109066e-02],\n",
       "        [6.00000000e+00, 7.02908587e-01, 2.40555044e-02],\n",
       "        [1.00000000e+01, 7.09833795e-01, 1.90939921e-02],\n",
       "        [1.40000000e+01, 7.25761773e-01, 2.64321672e-02],\n",
       "        [1.80000000e+01, 7.23407202e-01, 2.47999802e-02],\n",
       "        [2.20000000e+01, 7.14819945e-01, 2.13264918e-02],\n",
       "        [2.60000000e+01, 7.26454294e-01, 1.63440772e-02],\n",
       "        [3.00000000e+01, 7.26592798e-01, 2.09155032e-02],\n",
       "        [3.40000000e+01, 7.21745152e-01, 3.72493787e-02],\n",
       "        [3.80000000e+01, 7.42659280e-01, 2.32489033e-02],\n",
       "        [4.20000000e+01, 7.36288089e-01, 2.71778894e-02],\n",
       "        [4.60000000e+01, 7.18421053e-01, 1.89102559e-02],\n",
       "        [5.00000000e+01, 7.17174515e-01, 2.43215820e-02],\n",
       "        [5.40000000e+01, 7.29085873e-01, 1.62020264e-02],\n",
       "        [5.80000000e+01, 7.19529086e-01, 3.63886556e-02],\n",
       "        [6.20000000e+01, 7.34072022e-01, 2.52442584e-02],\n",
       "        [6.60000000e+01, 7.40858726e-01, 2.32872403e-02],\n",
       "        [7.00000000e+01, 7.18836565e-01, 2.55088408e-02],\n",
       "        [7.40000000e+01, 7.19806094e-01, 2.99953445e-02],\n",
       "        [7.80000000e+01, 7.29224377e-01, 2.61640911e-02],\n",
       "        [8.20000000e+01, 7.31717452e-01, 3.02247041e-02],\n",
       "        [8.60000000e+01, 7.37673130e-01, 2.41744313e-02],\n",
       "        [9.00000000e+01, 7.40581717e-01, 2.42287279e-02],\n",
       "        [9.40000000e+01, 7.22160665e-01, 2.29030766e-02],\n",
       "        [9.80000000e+01, 7.30886427e-01, 3.31950860e-02],\n",
       "        [1.00000000e+02, 7.17451524e-01, 3.15959521e-02],\n",
       "        [1.10000000e+02, 7.21052632e-01, 2.76606357e-02],\n",
       "        [1.20000000e+02, 7.25900277e-01, 2.49188183e-02],\n",
       "        [1.30000000e+02, 7.37673130e-01, 1.50861483e-02],\n",
       "        [1.40000000e+02, 7.22714681e-01, 2.35033022e-02],\n",
       "        [1.50000000e+02, 7.40304709e-01, 3.12679074e-02],\n",
       "        [1.60000000e+02, 7.34903047e-01, 2.74517891e-02],\n",
       "        [1.70000000e+02, 7.14265928e-01, 3.58029892e-02],\n",
       "        [1.80000000e+02, 7.27146814e-01, 2.28006615e-02],\n",
       "        [1.90000000e+02, 7.39473684e-01, 2.30137897e-02]]),\n",
       " 'train_recall': array([[2.00000000e+00, 6.89058172e-01, 2.41112622e-02],\n",
       "        [6.00000000e+00, 7.69529086e-01, 1.28024598e-02],\n",
       "        [1.00000000e+01, 8.05124654e-01, 1.71773074e-02],\n",
       "        [1.40000000e+01, 8.46260388e-01, 3.46426553e-02],\n",
       "        [1.80000000e+01, 8.41689751e-01, 9.95015239e-03],\n",
       "        [2.20000000e+01, 8.63296399e-01, 3.46540053e-02],\n",
       "        [2.60000000e+01, 8.87673130e-01, 1.84314635e-02],\n",
       "        [3.00000000e+01, 8.85872576e-01, 3.13166440e-02],\n",
       "        [3.40000000e+01, 8.92520776e-01, 4.71939571e-02],\n",
       "        [3.80000000e+01, 9.11080332e-01, 3.05011182e-02],\n",
       "        [4.20000000e+01, 9.26315789e-01, 2.89986821e-02],\n",
       "        [4.60000000e+01, 9.12049861e-01, 3.02132775e-02],\n",
       "        [5.00000000e+01, 8.93074792e-01, 2.43136934e-02],\n",
       "        [5.40000000e+01, 9.21606648e-01, 2.90211653e-02],\n",
       "        [5.80000000e+01, 9.06371191e-01, 3.26011832e-02],\n",
       "        [6.20000000e+01, 9.13434903e-01, 2.42856679e-02],\n",
       "        [6.60000000e+01, 9.25484765e-01, 4.04223374e-02],\n",
       "        [7.00000000e+01, 9.15096953e-01, 3.14318999e-02],\n",
       "        [7.40000000e+01, 9.11495845e-01, 3.92260297e-02],\n",
       "        [7.80000000e+01, 9.23961219e-01, 2.87037957e-02],\n",
       "        [8.20000000e+01, 9.12326870e-01, 3.22809778e-02],\n",
       "        [8.60000000e+01, 9.46952909e-01, 3.18743172e-02],\n",
       "        [9.00000000e+01, 9.29778393e-01, 3.14563031e-02],\n",
       "        [9.40000000e+01, 9.46260388e-01, 2.37064741e-02],\n",
       "        [9.80000000e+01, 9.22022161e-01, 3.34082243e-02],\n",
       "        [1.00000000e+02, 9.26731302e-01, 3.87041677e-02],\n",
       "        [1.10000000e+02, 9.05540166e-01, 3.01341247e-02],\n",
       "        [1.20000000e+02, 9.29778393e-01, 3.41914557e-02],\n",
       "        [1.30000000e+02, 9.53047091e-01, 3.03286151e-02],\n",
       "        [1.40000000e+02, 9.15512465e-01, 3.18559557e-02],\n",
       "        [1.50000000e+02, 9.38365651e-01, 3.80836058e-02],\n",
       "        [1.60000000e+02, 9.40581717e-01, 2.38166745e-02],\n",
       "        [1.70000000e+02, 9.27285319e-01, 4.64608674e-02],\n",
       "        [1.80000000e+02, 9.36565097e-01, 4.19363502e-02],\n",
       "        [1.90000000e+02, 9.45844875e-01, 1.85352510e-02]]),\n",
       " 'test_precision': array([[2.00000000e+00, 6.99962626e-01, 1.38293521e-02],\n",
       "        [6.00000000e+00, 7.10246762e-01, 1.10161063e-02],\n",
       "        [1.00000000e+01, 7.16780500e-01, 1.45179939e-02],\n",
       "        [1.40000000e+01, 7.17919641e-01, 1.45634159e-02],\n",
       "        [1.80000000e+01, 7.15744049e-01, 2.42952060e-02],\n",
       "        [2.20000000e+01, 7.24960312e-01, 2.39602495e-02],\n",
       "        [2.60000000e+01, 7.20287194e-01, 1.60719862e-02],\n",
       "        [3.00000000e+01, 7.24023457e-01, 1.77881154e-02],\n",
       "        [3.40000000e+01, 7.22712120e-01, 2.33497716e-02],\n",
       "        [3.80000000e+01, 7.34516820e-01, 1.12378145e-02],\n",
       "        [4.20000000e+01, 7.44805134e-01, 9.46325702e-03],\n",
       "        [4.60000000e+01, 7.30445148e-01, 1.86415681e-02],\n",
       "        [5.00000000e+01, 7.29661684e-01, 1.57339496e-02],\n",
       "        [5.40000000e+01, 7.31296528e-01, 1.72187682e-02],\n",
       "        [5.80000000e+01, 7.27508731e-01, 2.29936398e-02],\n",
       "        [6.20000000e+01, 7.18796750e-01, 2.01708506e-02],\n",
       "        [6.60000000e+01, 7.33869025e-01, 1.23592916e-02],\n",
       "        [7.00000000e+01, 7.35054147e-01, 1.62962554e-02],\n",
       "        [7.40000000e+01, 7.27297256e-01, 1.77288881e-02],\n",
       "        [7.80000000e+01, 7.21667208e-01, 1.14685867e-02],\n",
       "        [8.20000000e+01, 7.33029656e-01, 1.74759734e-02],\n",
       "        [8.60000000e+01, 7.31052737e-01, 1.70363973e-02],\n",
       "        [9.00000000e+01, 7.28908148e-01, 1.58544985e-02],\n",
       "        [9.40000000e+01, 7.27850639e-01, 1.62560713e-02],\n",
       "        [9.80000000e+01, 7.22769670e-01, 1.68404216e-02],\n",
       "        [1.00000000e+02, 7.28785108e-01, 1.51669481e-02],\n",
       "        [1.10000000e+02, 7.22072842e-01, 1.98776857e-02],\n",
       "        [1.20000000e+02, 7.33952968e-01, 1.74955592e-02],\n",
       "        [1.30000000e+02, 7.29709282e-01, 1.19318920e-02],\n",
       "        [1.40000000e+02, 7.21865109e-01, 2.13152329e-02],\n",
       "        [1.50000000e+02, 7.42513952e-01, 1.32571440e-02],\n",
       "        [1.60000000e+02, 7.18283002e-01, 1.55551004e-02],\n",
       "        [1.70000000e+02, 7.21200746e-01, 2.18218590e-02],\n",
       "        [1.80000000e+02, 7.16767617e-01, 9.87584815e-03],\n",
       "        [1.90000000e+02, 7.23038860e-01, 1.76969426e-02]]),\n",
       " 'train_precision': array([[2.00000000e+00, 7.23837669e-01, 1.37293744e-02],\n",
       "        [6.00000000e+00, 7.69202182e-01, 1.58578441e-02],\n",
       "        [1.00000000e+01, 7.97362976e-01, 2.14578811e-02],\n",
       "        [1.40000000e+01, 8.40188843e-01, 2.60751783e-02],\n",
       "        [1.80000000e+01, 8.51427961e-01, 2.66616091e-02],\n",
       "        [2.20000000e+01, 8.72058078e-01, 2.94775782e-02],\n",
       "        [2.60000000e+01, 8.73021859e-01, 1.86193769e-02],\n",
       "        [3.00000000e+01, 8.87816372e-01, 2.89918631e-02],\n",
       "        [3.40000000e+01, 9.00975591e-01, 4.12707460e-02],\n",
       "        [3.80000000e+01, 9.21204488e-01, 2.43714877e-02],\n",
       "        [4.20000000e+01, 9.22264184e-01, 2.26722876e-02],\n",
       "        [4.60000000e+01, 9.24676353e-01, 2.58256951e-02],\n",
       "        [5.00000000e+01, 9.03482943e-01, 2.28135548e-02],\n",
       "        [5.40000000e+01, 9.25166654e-01, 2.89588371e-02],\n",
       "        [5.80000000e+01, 9.20794930e-01, 3.52202600e-02],\n",
       "        [6.20000000e+01, 9.00317817e-01, 3.74974892e-02],\n",
       "        [6.60000000e+01, 9.28807363e-01, 4.07902727e-02],\n",
       "        [7.00000000e+01, 9.32717121e-01, 2.53315701e-02],\n",
       "        [7.40000000e+01, 9.18621021e-01, 3.70098949e-02],\n",
       "        [7.80000000e+01, 9.21071029e-01, 2.17734340e-02],\n",
       "        [8.20000000e+01, 9.27600212e-01, 3.75437446e-02],\n",
       "        [8.60000000e+01, 9.49293333e-01, 3.17466187e-02],\n",
       "        [9.00000000e+01, 9.34856260e-01, 2.39690858e-02],\n",
       "        [9.40000000e+01, 9.54980487e-01, 2.26840014e-02],\n",
       "        [9.80000000e+01, 9.29888163e-01, 3.41017010e-02],\n",
       "        [1.00000000e+02, 9.37659837e-01, 2.32609002e-02],\n",
       "        [1.10000000e+02, 9.20626679e-01, 1.96144617e-02],\n",
       "        [1.20000000e+02, 9.50171382e-01, 2.50137358e-02],\n",
       "        [1.30000000e+02, 9.51541714e-01, 3.21369215e-02],\n",
       "        [1.40000000e+02, 9.18898919e-01, 4.56888794e-02],\n",
       "        [1.50000000e+02, 9.53812031e-01, 2.53889154e-02],\n",
       "        [1.60000000e+02, 9.40475940e-01, 2.55535569e-02],\n",
       "        [1.70000000e+02, 9.34418586e-01, 4.12024179e-02],\n",
       "        [1.80000000e+02, 9.42985492e-01, 3.81538823e-02],\n",
       "        [1.90000000e+02, 9.37879213e-01, 2.31837382e-02]])}"
      ]
     },
     "execution_count": 12,
     "metadata": {},
     "output_type": "execute_result"
    }
   ],
   "source": [
    "results_store"
   ]
  },
  {
   "cell_type": "code",
   "execution_count": 17,
   "id": "71fc3cd2",
   "metadata": {},
   "outputs": [
    {
     "name": "stdout",
     "output_type": "stream",
     "text": [
      "a=0.0, r=1, gamma=19.758010521281683\n",
      "a=0.0, r=1, gamma=19.758010521281683\n",
      "a=0.0, r=1, gamma=19.758010521281683\n",
      "a=0.0, r=1, gamma=19.758010521281683\n",
      "a=0.0, r=1, gamma=19.758010521281683\n",
      "a=0.0, r=1, gamma=19.758010521281683\n",
      "a=0.0, r=1, gamma=19.758010521281683\n",
      "a=0.0, r=1, gamma=19.758010521281683\n",
      "a=0.0, r=1, gamma=19.758010521281683\n",
      "a=0.0, r=1, gamma=19.758010521281683\n",
      "[0.75211155 0.75381768 0.7478144  0.76028708 0.75211806]\n"
     ]
    }
   ],
   "source": [
    "# use 42 as hidden layer size\n",
    "\n",
    "classifier = MLPClassifier(solver='adam', activation='relu', alpha=1e-4, \n",
    "                           hidden_layer_sizes=42, random_state=0, max_iter=2000)\n",
    "pipe = make_pipeline(StandardScaler(), classifier)\n",
    "\n",
    "res = fit_and_score_iteratively(pipe, X, y, 1, 10)\n",
    "print(res)"
   ]
  },
  {
   "cell_type": "code",
   "execution_count": 13,
   "id": "54d8885e",
   "metadata": {
    "scrolled": true
   },
   "outputs": [
    {
     "name": "stdout",
     "output_type": "stream",
     "text": [
      "<class 'sklearn.pipeline.Pipeline'>\n",
      "a=0.0, r=1, gamma=20.040858725761773\n",
      "a=0.0, r=1, gamma=20.040858725761773\n",
      "a=0.0, r=1, gamma=20.040858725761773\n",
      "a=0.0, r=1, gamma=20.040858725761773\n",
      "a=0.0, r=1, gamma=20.040858725761773\n"
     ]
    },
    {
     "name": "stderr",
     "output_type": "stream",
     "text": [
      "/home/jay/gatech/cs7641/supervised_learning/helpers.py:68: VisibleDeprecationWarning: Creating an ndarray from ragged nested sequences (which is a list-or-tuple of lists-or-tuples-or ndarrays with different lengths or shapes) is deprecated. If you meant to do this, you must specify 'dtype=object' when creating the ndarray\n",
      "  scoring\n"
     ]
    },
    {
     "name": "stdout",
     "output_type": "stream",
     "text": [
      "<class 'sklearn.pipeline.Pipeline'>\n",
      "a=0.0, r=1, gamma=20.040858725761773\n",
      "a=0.0, r=1, gamma=20.040858725761773\n",
      "a=0.0, r=1, gamma=20.040858725761773\n",
      "a=0.0, r=1, gamma=20.040858725761773\n",
      "a=0.0, r=1, gamma=20.040858725761773\n"
     ]
    },
    {
     "name": "stderr",
     "output_type": "stream",
     "text": [
      "/home/jay/gatech/cs7641/supervised_learning/helpers.py:68: VisibleDeprecationWarning: Creating an ndarray from ragged nested sequences (which is a list-or-tuple of lists-or-tuples-or ndarrays with different lengths or shapes) is deprecated. If you meant to do this, you must specify 'dtype=object' when creating the ndarray\n",
      "  scoring\n"
     ]
    },
    {
     "name": "stdout",
     "output_type": "stream",
     "text": [
      "<class 'sklearn.pipeline.Pipeline'>\n",
      "a=0.0, r=1, gamma=20.040858725761773\n",
      "a=0.0, r=1, gamma=20.040858725761773\n",
      "a=0.0, r=1, gamma=20.040858725761773\n",
      "a=0.0, r=1, gamma=20.040858725761773\n",
      "a=0.0, r=1, gamma=20.040858725761773\n"
     ]
    },
    {
     "name": "stderr",
     "output_type": "stream",
     "text": [
      "/home/jay/gatech/cs7641/supervised_learning/helpers.py:68: VisibleDeprecationWarning: Creating an ndarray from ragged nested sequences (which is a list-or-tuple of lists-or-tuples-or ndarrays with different lengths or shapes) is deprecated. If you meant to do this, you must specify 'dtype=object' when creating the ndarray\n",
      "  scoring\n"
     ]
    },
    {
     "name": "stdout",
     "output_type": "stream",
     "text": [
      "<class 'sklearn.pipeline.Pipeline'>\n",
      "a=0.0, r=1, gamma=20.040858725761773\n",
      "a=0.0, r=1, gamma=20.040858725761773\n",
      "a=0.0, r=1, gamma=20.040858725761773\n",
      "a=0.0, r=1, gamma=20.040858725761773\n",
      "a=0.0, r=1, gamma=20.040858725761773\n"
     ]
    },
    {
     "name": "stderr",
     "output_type": "stream",
     "text": [
      "/home/jay/gatech/cs7641/supervised_learning/helpers.py:68: VisibleDeprecationWarning: Creating an ndarray from ragged nested sequences (which is a list-or-tuple of lists-or-tuples-or ndarrays with different lengths or shapes) is deprecated. If you meant to do this, you must specify 'dtype=object' when creating the ndarray\n",
      "  scoring\n"
     ]
    },
    {
     "name": "stdout",
     "output_type": "stream",
     "text": [
      "<class 'sklearn.pipeline.Pipeline'>\n",
      "a=0.0, r=1, gamma=20.040858725761773\n",
      "a=0.0, r=1, gamma=20.040858725761773\n",
      "a=0.0, r=1, gamma=20.040858725761773\n",
      "a=0.0, r=1, gamma=20.040858725761773\n",
      "a=0.0, r=1, gamma=20.040858725761773\n"
     ]
    },
    {
     "name": "stderr",
     "output_type": "stream",
     "text": [
      "/home/jay/gatech/cs7641/supervised_learning/helpers.py:68: VisibleDeprecationWarning: Creating an ndarray from ragged nested sequences (which is a list-or-tuple of lists-or-tuples-or ndarrays with different lengths or shapes) is deprecated. If you meant to do this, you must specify 'dtype=object' when creating the ndarray\n",
      "  scoring\n"
     ]
    },
    {
     "name": "stdout",
     "output_type": "stream",
     "text": [
      "<class 'sklearn.pipeline.Pipeline'>\n",
      "a=0.0, r=1, gamma=20.040858725761773\n",
      "a=0.0, r=1, gamma=20.040858725761773\n",
      "a=0.0, r=1, gamma=20.040858725761773\n",
      "a=0.0, r=1, gamma=20.040858725761773\n",
      "a=0.0, r=1, gamma=20.040858725761773\n"
     ]
    },
    {
     "name": "stderr",
     "output_type": "stream",
     "text": [
      "/home/jay/gatech/cs7641/supervised_learning/helpers.py:68: VisibleDeprecationWarning: Creating an ndarray from ragged nested sequences (which is a list-or-tuple of lists-or-tuples-or ndarrays with different lengths or shapes) is deprecated. If you meant to do this, you must specify 'dtype=object' when creating the ndarray\n",
      "  scoring\n"
     ]
    },
    {
     "name": "stdout",
     "output_type": "stream",
     "text": [
      "<class 'sklearn.pipeline.Pipeline'>\n",
      "a=0.0, r=1, gamma=20.040858725761773\n",
      "a=0.0, r=1, gamma=20.040858725761773\n",
      "a=0.0, r=1, gamma=20.040858725761773\n",
      "a=0.0, r=1, gamma=20.040858725761773\n",
      "a=0.0, r=1, gamma=20.040858725761773\n"
     ]
    },
    {
     "name": "stderr",
     "output_type": "stream",
     "text": [
      "/home/jay/gatech/cs7641/supervised_learning/helpers.py:68: VisibleDeprecationWarning: Creating an ndarray from ragged nested sequences (which is a list-or-tuple of lists-or-tuples-or ndarrays with different lengths or shapes) is deprecated. If you meant to do this, you must specify 'dtype=object' when creating the ndarray\n",
      "  scoring\n"
     ]
    },
    {
     "name": "stdout",
     "output_type": "stream",
     "text": [
      "<class 'sklearn.pipeline.Pipeline'>\n",
      "a=0.0, r=1, gamma=20.040858725761773\n",
      "a=0.0, r=1, gamma=20.040858725761773\n",
      "a=0.0, r=1, gamma=20.040858725761773\n",
      "a=0.0, r=1, gamma=20.040858725761773\n",
      "a=0.0, r=1, gamma=20.040858725761773\n"
     ]
    },
    {
     "name": "stderr",
     "output_type": "stream",
     "text": [
      "/home/jay/gatech/cs7641/supervised_learning/helpers.py:68: VisibleDeprecationWarning: Creating an ndarray from ragged nested sequences (which is a list-or-tuple of lists-or-tuples-or ndarrays with different lengths or shapes) is deprecated. If you meant to do this, you must specify 'dtype=object' when creating the ndarray\n",
      "  scoring\n"
     ]
    },
    {
     "name": "stdout",
     "output_type": "stream",
     "text": [
      "<class 'sklearn.pipeline.Pipeline'>\n",
      "a=0.0, r=1, gamma=20.040858725761773\n",
      "a=0.0, r=1, gamma=20.040858725761773\n",
      "a=0.0, r=1, gamma=20.040858725761773\n",
      "a=0.0, r=1, gamma=20.040858725761773\n",
      "a=0.0, r=1, gamma=20.040858725761773\n"
     ]
    },
    {
     "name": "stderr",
     "output_type": "stream",
     "text": [
      "/home/jay/gatech/cs7641/supervised_learning/helpers.py:68: VisibleDeprecationWarning: Creating an ndarray from ragged nested sequences (which is a list-or-tuple of lists-or-tuples-or ndarrays with different lengths or shapes) is deprecated. If you meant to do this, you must specify 'dtype=object' when creating the ndarray\n",
      "  scoring\n"
     ]
    },
    {
     "name": "stdout",
     "output_type": "stream",
     "text": [
      "<class 'sklearn.pipeline.Pipeline'>\n",
      "a=0.0, r=1, gamma=20.040858725761773\n",
      "a=0.0, r=1, gamma=20.040858725761773\n",
      "a=0.0, r=1, gamma=20.040858725761773\n",
      "a=0.0, r=1, gamma=20.040858725761773\n",
      "a=0.0, r=1, gamma=20.040858725761773\n"
     ]
    },
    {
     "name": "stderr",
     "output_type": "stream",
     "text": [
      "/home/jay/gatech/cs7641/supervised_learning/helpers.py:68: VisibleDeprecationWarning: Creating an ndarray from ragged nested sequences (which is a list-or-tuple of lists-or-tuples-or ndarrays with different lengths or shapes) is deprecated. If you meant to do this, you must specify 'dtype=object' when creating the ndarray\n",
      "  scoring\n"
     ]
    },
    {
     "name": "stdout",
     "output_type": "stream",
     "text": [
      "<class 'sklearn.pipeline.Pipeline'>\n",
      "a=0.0, r=1, gamma=20.040858725761773\n",
      "a=0.0, r=1, gamma=20.040858725761773\n",
      "a=0.0, r=1, gamma=20.040858725761773\n",
      "a=0.0, r=1, gamma=20.040858725761773\n",
      "a=0.0, r=1, gamma=20.040858725761773\n"
     ]
    },
    {
     "name": "stderr",
     "output_type": "stream",
     "text": [
      "/home/jay/gatech/cs7641/supervised_learning/helpers.py:68: VisibleDeprecationWarning: Creating an ndarray from ragged nested sequences (which is a list-or-tuple of lists-or-tuples-or ndarrays with different lengths or shapes) is deprecated. If you meant to do this, you must specify 'dtype=object' when creating the ndarray\n",
      "  scoring\n"
     ]
    },
    {
     "name": "stdout",
     "output_type": "stream",
     "text": [
      "<class 'sklearn.pipeline.Pipeline'>\n",
      "a=0.0, r=1, gamma=20.040858725761773\n",
      "a=0.0, r=1, gamma=20.040858725761773\n",
      "a=0.0, r=1, gamma=20.040858725761773\n",
      "a=0.0, r=1, gamma=20.040858725761773\n",
      "a=0.0, r=1, gamma=20.040858725761773\n"
     ]
    },
    {
     "name": "stderr",
     "output_type": "stream",
     "text": [
      "/home/jay/gatech/cs7641/supervised_learning/helpers.py:68: VisibleDeprecationWarning: Creating an ndarray from ragged nested sequences (which is a list-or-tuple of lists-or-tuples-or ndarrays with different lengths or shapes) is deprecated. If you meant to do this, you must specify 'dtype=object' when creating the ndarray\n",
      "  scoring\n"
     ]
    },
    {
     "name": "stdout",
     "output_type": "stream",
     "text": [
      "<class 'sklearn.pipeline.Pipeline'>\n",
      "a=0.0, r=1, gamma=20.040858725761773\n",
      "a=0.0, r=1, gamma=20.040858725761773\n",
      "a=0.0, r=1, gamma=20.040858725761773\n",
      "a=0.0, r=1, gamma=20.040858725761773\n",
      "a=0.0, r=1, gamma=20.040858725761773\n"
     ]
    },
    {
     "name": "stderr",
     "output_type": "stream",
     "text": [
      "/home/jay/gatech/cs7641/supervised_learning/helpers.py:68: VisibleDeprecationWarning: Creating an ndarray from ragged nested sequences (which is a list-or-tuple of lists-or-tuples-or ndarrays with different lengths or shapes) is deprecated. If you meant to do this, you must specify 'dtype=object' when creating the ndarray\n",
      "  scoring\n"
     ]
    },
    {
     "name": "stdout",
     "output_type": "stream",
     "text": [
      "<class 'sklearn.pipeline.Pipeline'>\n",
      "a=0.0, r=1, gamma=20.040858725761773\n",
      "a=0.0, r=1, gamma=20.040858725761773\n",
      "a=0.0, r=1, gamma=20.040858725761773\n",
      "a=0.0, r=1, gamma=20.040858725761773\n",
      "a=0.0, r=1, gamma=20.040858725761773\n"
     ]
    },
    {
     "name": "stderr",
     "output_type": "stream",
     "text": [
      "/home/jay/gatech/cs7641/supervised_learning/helpers.py:68: VisibleDeprecationWarning: Creating an ndarray from ragged nested sequences (which is a list-or-tuple of lists-or-tuples-or ndarrays with different lengths or shapes) is deprecated. If you meant to do this, you must specify 'dtype=object' when creating the ndarray\n",
      "  scoring\n"
     ]
    },
    {
     "name": "stdout",
     "output_type": "stream",
     "text": [
      "<class 'sklearn.pipeline.Pipeline'>\n",
      "a=0.0, r=1, gamma=20.040858725761773\n",
      "a=0.0, r=1, gamma=20.040858725761773\n",
      "a=0.0, r=1, gamma=20.040858725761773\n",
      "a=0.0, r=1, gamma=20.040858725761773\n",
      "a=0.0, r=1, gamma=20.040858725761773\n"
     ]
    },
    {
     "name": "stderr",
     "output_type": "stream",
     "text": [
      "/home/jay/gatech/cs7641/supervised_learning/helpers.py:68: VisibleDeprecationWarning: Creating an ndarray from ragged nested sequences (which is a list-or-tuple of lists-or-tuples-or ndarrays with different lengths or shapes) is deprecated. If you meant to do this, you must specify 'dtype=object' when creating the ndarray\n",
      "  scoring\n"
     ]
    },
    {
     "name": "stdout",
     "output_type": "stream",
     "text": [
      "<class 'sklearn.pipeline.Pipeline'>\n",
      "a=0.0, r=1, gamma=20.040858725761773\n",
      "a=0.0, r=1, gamma=20.040858725761773\n",
      "a=0.0, r=1, gamma=20.040858725761773\n",
      "a=0.0, r=1, gamma=20.040858725761773\n",
      "a=0.0, r=1, gamma=20.040858725761773\n"
     ]
    },
    {
     "name": "stderr",
     "output_type": "stream",
     "text": [
      "/home/jay/gatech/cs7641/supervised_learning/helpers.py:68: VisibleDeprecationWarning: Creating an ndarray from ragged nested sequences (which is a list-or-tuple of lists-or-tuples-or ndarrays with different lengths or shapes) is deprecated. If you meant to do this, you must specify 'dtype=object' when creating the ndarray\n",
      "  scoring\n"
     ]
    },
    {
     "name": "stdout",
     "output_type": "stream",
     "text": [
      "<class 'sklearn.pipeline.Pipeline'>\n",
      "a=0.0, r=1, gamma=20.040858725761773\n",
      "a=0.0, r=1, gamma=20.040858725761773\n",
      "a=0.0, r=1, gamma=20.040858725761773\n",
      "a=0.0, r=1, gamma=20.040858725761773\n",
      "a=0.0, r=1, gamma=20.040858725761773\n"
     ]
    },
    {
     "name": "stderr",
     "output_type": "stream",
     "text": [
      "/home/jay/gatech/cs7641/supervised_learning/helpers.py:68: VisibleDeprecationWarning: Creating an ndarray from ragged nested sequences (which is a list-or-tuple of lists-or-tuples-or ndarrays with different lengths or shapes) is deprecated. If you meant to do this, you must specify 'dtype=object' when creating the ndarray\n",
      "  scoring\n"
     ]
    },
    {
     "name": "stdout",
     "output_type": "stream",
     "text": [
      "<class 'sklearn.pipeline.Pipeline'>\n",
      "a=0.0, r=1, gamma=20.040858725761773\n",
      "a=0.0, r=1, gamma=20.040858725761773\n",
      "a=0.0, r=1, gamma=20.040858725761773\n",
      "a=0.0, r=1, gamma=20.040858725761773\n",
      "a=0.0, r=1, gamma=20.040858725761773\n"
     ]
    },
    {
     "name": "stderr",
     "output_type": "stream",
     "text": [
      "/home/jay/gatech/cs7641/supervised_learning/helpers.py:68: VisibleDeprecationWarning: Creating an ndarray from ragged nested sequences (which is a list-or-tuple of lists-or-tuples-or ndarrays with different lengths or shapes) is deprecated. If you meant to do this, you must specify 'dtype=object' when creating the ndarray\n",
      "  scoring\n"
     ]
    },
    {
     "name": "stdout",
     "output_type": "stream",
     "text": [
      "<class 'sklearn.pipeline.Pipeline'>\n",
      "a=0.0, r=1, gamma=20.040858725761773\n",
      "a=0.0, r=1, gamma=20.040858725761773\n",
      "a=0.0, r=1, gamma=20.040858725761773\n",
      "a=0.0, r=1, gamma=20.040858725761773\n",
      "a=0.0, r=1, gamma=20.040858725761773\n"
     ]
    },
    {
     "name": "stderr",
     "output_type": "stream",
     "text": [
      "/home/jay/gatech/cs7641/supervised_learning/helpers.py:68: VisibleDeprecationWarning: Creating an ndarray from ragged nested sequences (which is a list-or-tuple of lists-or-tuples-or ndarrays with different lengths or shapes) is deprecated. If you meant to do this, you must specify 'dtype=object' when creating the ndarray\n",
      "  scoring\n"
     ]
    },
    {
     "name": "stdout",
     "output_type": "stream",
     "text": [
      "<class 'sklearn.pipeline.Pipeline'>\n",
      "a=0.0, r=1, gamma=20.040858725761773\n",
      "a=0.0, r=1, gamma=20.040858725761773\n",
      "a=0.0, r=1, gamma=20.040858725761773\n",
      "a=0.0, r=1, gamma=20.040858725761773\n",
      "a=0.0, r=1, gamma=20.040858725761773\n"
     ]
    },
    {
     "name": "stderr",
     "output_type": "stream",
     "text": [
      "/home/jay/gatech/cs7641/supervised_learning/helpers.py:68: VisibleDeprecationWarning: Creating an ndarray from ragged nested sequences (which is a list-or-tuple of lists-or-tuples-or ndarrays with different lengths or shapes) is deprecated. If you meant to do this, you must specify 'dtype=object' when creating the ndarray\n",
      "  scoring\n"
     ]
    },
    {
     "name": "stdout",
     "output_type": "stream",
     "text": [
      "<class 'sklearn.pipeline.Pipeline'>\n",
      "a=0.0, r=1, gamma=20.040858725761773\n",
      "a=0.0, r=1, gamma=20.040858725761773\n",
      "a=0.0, r=1, gamma=20.040858725761773\n",
      "a=0.0, r=1, gamma=20.040858725761773\n",
      "a=0.0, r=1, gamma=20.040858725761773\n"
     ]
    },
    {
     "name": "stderr",
     "output_type": "stream",
     "text": [
      "/home/jay/gatech/cs7641/supervised_learning/helpers.py:68: VisibleDeprecationWarning: Creating an ndarray from ragged nested sequences (which is a list-or-tuple of lists-or-tuples-or ndarrays with different lengths or shapes) is deprecated. If you meant to do this, you must specify 'dtype=object' when creating the ndarray\n",
      "  scoring\n"
     ]
    },
    {
     "name": "stdout",
     "output_type": "stream",
     "text": [
      "<class 'sklearn.pipeline.Pipeline'>\n",
      "a=0.0, r=1, gamma=20.040858725761773\n",
      "a=0.0, r=1, gamma=20.040858725761773\n",
      "a=0.0, r=1, gamma=20.040858725761773\n",
      "a=0.0, r=1, gamma=20.040858725761773\n",
      "a=0.0, r=1, gamma=20.040858725761773\n"
     ]
    },
    {
     "name": "stderr",
     "output_type": "stream",
     "text": [
      "/home/jay/gatech/cs7641/supervised_learning/helpers.py:68: VisibleDeprecationWarning: Creating an ndarray from ragged nested sequences (which is a list-or-tuple of lists-or-tuples-or ndarrays with different lengths or shapes) is deprecated. If you meant to do this, you must specify 'dtype=object' when creating the ndarray\n",
      "  scoring\n"
     ]
    },
    {
     "name": "stdout",
     "output_type": "stream",
     "text": [
      "<class 'sklearn.pipeline.Pipeline'>\n",
      "a=0.0, r=1, gamma=20.040858725761773\n",
      "a=0.0, r=1, gamma=20.040858725761773\n",
      "a=0.0, r=1, gamma=20.040858725761773\n",
      "a=0.0, r=1, gamma=20.040858725761773\n",
      "a=0.0, r=1, gamma=20.040858725761773\n"
     ]
    },
    {
     "name": "stderr",
     "output_type": "stream",
     "text": [
      "/home/jay/gatech/cs7641/supervised_learning/helpers.py:68: VisibleDeprecationWarning: Creating an ndarray from ragged nested sequences (which is a list-or-tuple of lists-or-tuples-or ndarrays with different lengths or shapes) is deprecated. If you meant to do this, you must specify 'dtype=object' when creating the ndarray\n",
      "  scoring\n"
     ]
    },
    {
     "name": "stdout",
     "output_type": "stream",
     "text": [
      "<class 'sklearn.pipeline.Pipeline'>\n",
      "a=0.0, r=1, gamma=20.040858725761773\n",
      "a=0.0, r=1, gamma=20.040858725761773\n",
      "a=0.0, r=1, gamma=20.040858725761773\n",
      "a=0.0, r=1, gamma=20.040858725761773\n",
      "a=0.0, r=1, gamma=20.040858725761773\n"
     ]
    },
    {
     "name": "stderr",
     "output_type": "stream",
     "text": [
      "/home/jay/gatech/cs7641/supervised_learning/helpers.py:68: VisibleDeprecationWarning: Creating an ndarray from ragged nested sequences (which is a list-or-tuple of lists-or-tuples-or ndarrays with different lengths or shapes) is deprecated. If you meant to do this, you must specify 'dtype=object' when creating the ndarray\n",
      "  scoring\n"
     ]
    },
    {
     "name": "stdout",
     "output_type": "stream",
     "text": [
      "<class 'sklearn.pipeline.Pipeline'>\n",
      "a=0.0, r=1, gamma=20.040858725761773\n",
      "a=0.0, r=1, gamma=20.040858725761773\n",
      "a=0.0, r=1, gamma=20.040858725761773\n",
      "a=0.0, r=1, gamma=20.040858725761773\n",
      "a=0.0, r=1, gamma=20.040858725761773\n"
     ]
    },
    {
     "name": "stderr",
     "output_type": "stream",
     "text": [
      "/home/jay/gatech/cs7641/supervised_learning/helpers.py:68: VisibleDeprecationWarning: Creating an ndarray from ragged nested sequences (which is a list-or-tuple of lists-or-tuples-or ndarrays with different lengths or shapes) is deprecated. If you meant to do this, you must specify 'dtype=object' when creating the ndarray\n",
      "  scoring\n"
     ]
    },
    {
     "name": "stdout",
     "output_type": "stream",
     "text": [
      "<class 'sklearn.pipeline.Pipeline'>\n",
      "a=0.0, r=1, gamma=20.040858725761773\n",
      "a=0.0, r=1, gamma=20.040858725761773\n",
      "a=0.0, r=1, gamma=20.040858725761773\n",
      "a=0.0, r=1, gamma=20.040858725761773\n",
      "a=0.0, r=1, gamma=20.040858725761773\n"
     ]
    },
    {
     "name": "stderr",
     "output_type": "stream",
     "text": [
      "/home/jay/gatech/cs7641/supervised_learning/helpers.py:68: VisibleDeprecationWarning: Creating an ndarray from ragged nested sequences (which is a list-or-tuple of lists-or-tuples-or ndarrays with different lengths or shapes) is deprecated. If you meant to do this, you must specify 'dtype=object' when creating the ndarray\n",
      "  scoring\n"
     ]
    },
    {
     "name": "stdout",
     "output_type": "stream",
     "text": [
      "<class 'sklearn.pipeline.Pipeline'>\n",
      "a=0.0, r=1, gamma=20.040858725761773\n",
      "a=0.0, r=1, gamma=20.040858725761773\n",
      "a=0.0, r=1, gamma=20.040858725761773\n",
      "a=0.0, r=1, gamma=20.040858725761773\n",
      "a=0.0, r=1, gamma=20.040858725761773\n"
     ]
    },
    {
     "name": "stderr",
     "output_type": "stream",
     "text": [
      "/home/jay/gatech/cs7641/supervised_learning/helpers.py:68: VisibleDeprecationWarning: Creating an ndarray from ragged nested sequences (which is a list-or-tuple of lists-or-tuples-or ndarrays with different lengths or shapes) is deprecated. If you meant to do this, you must specify 'dtype=object' when creating the ndarray\n",
      "  scoring\n"
     ]
    },
    {
     "name": "stdout",
     "output_type": "stream",
     "text": [
      "<class 'sklearn.pipeline.Pipeline'>\n",
      "a=0.0, r=1, gamma=20.040858725761773\n",
      "a=0.0, r=1, gamma=20.040858725761773\n",
      "a=0.0, r=1, gamma=20.040858725761773\n",
      "a=0.0, r=1, gamma=20.040858725761773\n",
      "a=0.0, r=1, gamma=20.040858725761773\n"
     ]
    },
    {
     "name": "stderr",
     "output_type": "stream",
     "text": [
      "/home/jay/gatech/cs7641/supervised_learning/helpers.py:68: VisibleDeprecationWarning: Creating an ndarray from ragged nested sequences (which is a list-or-tuple of lists-or-tuples-or ndarrays with different lengths or shapes) is deprecated. If you meant to do this, you must specify 'dtype=object' when creating the ndarray\n",
      "  scoring\n"
     ]
    },
    {
     "name": "stdout",
     "output_type": "stream",
     "text": [
      "<class 'sklearn.pipeline.Pipeline'>\n",
      "a=0.0, r=1, gamma=20.040858725761773\n",
      "a=0.0, r=1, gamma=20.040858725761773\n",
      "a=0.0, r=1, gamma=20.040858725761773\n",
      "a=0.0, r=1, gamma=20.040858725761773\n",
      "a=0.0, r=1, gamma=20.040858725761773\n"
     ]
    },
    {
     "name": "stderr",
     "output_type": "stream",
     "text": [
      "/home/jay/gatech/cs7641/supervised_learning/helpers.py:68: VisibleDeprecationWarning: Creating an ndarray from ragged nested sequences (which is a list-or-tuple of lists-or-tuples-or ndarrays with different lengths or shapes) is deprecated. If you meant to do this, you must specify 'dtype=object' when creating the ndarray\n",
      "  scoring\n"
     ]
    },
    {
     "data": {
      "image/png": "[encoded data removed]",
      "text/plain": [
       "<Figure size 1440x360 with 4 Axes>"
      ]
     },
     "metadata": {
      "needs_background": "light"
     },
     "output_type": "display_data"
    }
   ],
   "source": [
    "# optimize hidden_layer_sizes\n",
    "X_train, X_test, y_train, y_test = train_test_split(X, y, test_size=0.3, random_state=42)\n",
    "\n",
    "# param_range = range(1, 3)\n",
    "# param_range = list(range(1, 71, 2)) + list(range(70, 210, 10)) + list(range(200, 500, 20)) + list(range(500, 1000, 50))\n",
    "param_range = list(range(2, 60, 2)) # + list(range(70, 210, 10)) + list(range(200, 500, 20)) + list(range(500, 1000, 50))\n",
    "param_range = [(42, p) for p in param_range]\n",
    "scoring = ['accuracy', 'f1', 'recall', 'precision']\n",
    "\n",
    "cv = StratifiedKFold(n_splits=2, shuffle=True, random_state=0)\n",
    "classifier = MLPClassifier(solver='adam', activation='relu', alpha=1e-4, random_state=0, max_iter=3000)\n",
    "\n",
    "results_store_2, plt = plot_validation_curve_with_undersampling(classifier, X_train, y_train, \n",
    "                      param_name='hidden_layer_sizes', param_range=param_range, fit_params=None, error_score='raise',\n",
    "                      cv=cv, scoring=scoring, n_jobs=8, iterations=5, undersampling_ratio=1, is_pipe=True, \n",
    "                                                              x_axis_is_log=False, param_range_idx=1)\n",
    "\n",
    "\n"
   ]
  },
  {
   "cell_type": "markdown",
   "id": "4581df7d",
   "metadata": {},
   "source": [
    "### regularization alpha"
   ]
  },
  {
   "cell_type": "code",
   "execution_count": 21,
   "id": "99c407e5",
   "metadata": {
    "scrolled": true
   },
   "outputs": [
    {
     "name": "stdout",
     "output_type": "stream",
     "text": [
      "<class 'sklearn.pipeline.Pipeline'>\n",
      "a=0.0, r=1, gamma=20.040858725761773\n",
      "a=0.0, r=1, gamma=20.040858725761773\n",
      "a=0.0, r=1, gamma=20.040858725761773\n",
      "a=0.0, r=1, gamma=20.040858725761773\n",
      "a=0.0, r=1, gamma=20.040858725761773\n",
      "<class 'sklearn.pipeline.Pipeline'>\n",
      "a=0.0, r=1, gamma=20.040858725761773\n",
      "a=0.0, r=1, gamma=20.040858725761773\n",
      "a=0.0, r=1, gamma=20.040858725761773\n",
      "a=0.0, r=1, gamma=20.040858725761773\n",
      "a=0.0, r=1, gamma=20.040858725761773\n",
      "<class 'sklearn.pipeline.Pipeline'>\n",
      "a=0.0, r=1, gamma=20.040858725761773\n",
      "a=0.0, r=1, gamma=20.040858725761773\n",
      "a=0.0, r=1, gamma=20.040858725761773\n",
      "a=0.0, r=1, gamma=20.040858725761773\n",
      "a=0.0, r=1, gamma=20.040858725761773\n",
      "<class 'sklearn.pipeline.Pipeline'>\n",
      "a=0.0, r=1, gamma=20.040858725761773\n",
      "a=0.0, r=1, gamma=20.040858725761773\n",
      "a=0.0, r=1, gamma=20.040858725761773\n",
      "a=0.0, r=1, gamma=20.040858725761773\n",
      "a=0.0, r=1, gamma=20.040858725761773\n",
      "<class 'sklearn.pipeline.Pipeline'>\n",
      "a=0.0, r=1, gamma=20.040858725761773\n",
      "a=0.0, r=1, gamma=20.040858725761773\n",
      "a=0.0, r=1, gamma=20.040858725761773\n",
      "a=0.0, r=1, gamma=20.040858725761773\n",
      "a=0.0, r=1, gamma=20.040858725761773\n",
      "<class 'sklearn.pipeline.Pipeline'>\n",
      "a=0.0, r=1, gamma=20.040858725761773\n",
      "a=0.0, r=1, gamma=20.040858725761773\n",
      "a=0.0, r=1, gamma=20.040858725761773\n",
      "a=0.0, r=1, gamma=20.040858725761773\n",
      "a=0.0, r=1, gamma=20.040858725761773\n",
      "<class 'sklearn.pipeline.Pipeline'>\n",
      "a=0.0, r=1, gamma=20.040858725761773\n",
      "a=0.0, r=1, gamma=20.040858725761773\n",
      "a=0.0, r=1, gamma=20.040858725761773\n",
      "a=0.0, r=1, gamma=20.040858725761773\n",
      "a=0.0, r=1, gamma=20.040858725761773\n",
      "<class 'sklearn.pipeline.Pipeline'>\n",
      "a=0.0, r=1, gamma=20.040858725761773\n",
      "a=0.0, r=1, gamma=20.040858725761773\n",
      "a=0.0, r=1, gamma=20.040858725761773\n",
      "a=0.0, r=1, gamma=20.040858725761773\n",
      "a=0.0, r=1, gamma=20.040858725761773\n",
      "<class 'sklearn.pipeline.Pipeline'>\n",
      "a=0.0, r=1, gamma=20.040858725761773\n",
      "a=0.0, r=1, gamma=20.040858725761773\n",
      "a=0.0, r=1, gamma=20.040858725761773\n",
      "a=0.0, r=1, gamma=20.040858725761773\n",
      "a=0.0, r=1, gamma=20.040858725761773\n",
      "<class 'sklearn.pipeline.Pipeline'>\n",
      "a=0.0, r=1, gamma=20.040858725761773\n",
      "a=0.0, r=1, gamma=20.040858725761773\n",
      "a=0.0, r=1, gamma=20.040858725761773\n",
      "a=0.0, r=1, gamma=20.040858725761773\n",
      "a=0.0, r=1, gamma=20.040858725761773\n"
     ]
    },
    {
     "data": {
      "image/png": "[encoded data removed]",
      "text/plain": [
       "<Figure size 1440x360 with 4 Axes>"
      ]
     },
     "metadata": {
      "needs_background": "light"
     },
     "output_type": "display_data"
    }
   ],
   "source": [
    "# optimize alpha\n",
    "X_train, X_test, y_train, y_test = train_test_split(X, y, test_size=0.3, random_state=42)\n",
    "\n",
    "param_range = [0, 1e-7, 1e-6, 1e-5, 1e-4, 1e-3, 1e-2, 1e-1, 1e0, 1e1]\n",
    "scoring = ['accuracy', 'f1', 'recall', 'precision']\n",
    "\n",
    "cv = StratifiedKFold(n_splits=2, shuffle=True, random_state=0)\n",
    "classifier = MLPClassifier(solver='adam', activation='relu', hidden_layer_sizes=42, random_state=0, max_iter=3000)\n",
    "\n",
    "results_store, plt = plot_validation_curve_with_undersampling(classifier, X_train, y_train, \n",
    "                      param_name='alpha', param_range=param_range, fit_params=None, error_score='raise',\n",
    "                      cv=cv, scoring=scoring, n_jobs=8, iterations=5, undersampling_ratio=1, is_pipe=True, \n",
    "                                                              x_axis_is_log=True)\n"
   ]
  },
  {
   "cell_type": "markdown",
   "id": "cab2a3da",
   "metadata": {},
   "source": [
    "# Learning Curve"
   ]
  },
  {
   "cell_type": "code",
   "execution_count": null,
   "id": "859ecf88",
   "metadata": {},
   "outputs": [],
   "source": [
    "classifier = MLPClassifier(solver='adam', alpha=1e-4, hidden_layer_sizes=42, random_state=0, max_iter=3000)\n",
    "pipe = make_pipeline(StandardScaler(), classifier)\n",
    "cv = StratifiedKFold(n_splits=3, shuffle=True, random_state=0)\n",
    "\n",
    "title = 'Neural Network Learning Curve'\n",
    "plot_learning_curve(pipe, title, X_train, y_train, axes=None, ylim=None, cv=cv,\n",
    "                            n_jobs=None, train_sizes=np.linspace(.1, 1.0, 10), scoring='accuracy', iterations=10)\n",
    "\n",
    "\n"
   ]
  },
  {
   "cell_type": "code",
   "execution_count": null,
   "id": "5c2e225a",
   "metadata": {},
   "outputs": [],
   "source": [
    "classifier = MLPClassifier(solver='sgd', alpha=1e-4, hidden_layer_sizes=(30, 15), random_state=0, \n",
    "                           learning_rate_init = 0.002, max_iter=2000)\n",
    "pipe = make_pipeline(StandardScaler(), classifier)\n",
    "# pipe.fit(X_train, y_train)  # apply scaling on training data\n",
    "cv = StratifiedKFold(n_splits=10, shuffle=True, random_state=0)\n",
    "\n",
    "title = 'Neural Network Learning Curve'\n",
    "plot_learning_curve(pipe, title, X, y, axes=None, ylim=None, cv=cv,\n",
    "                            n_jobs=None, train_sizes=np.linspace(.1, 1.0, 10), scoring='accuracy', iterations=1)"
   ]
  },
  {
   "cell_type": "code",
   "execution_count": null,
   "id": "926c8bdc",
   "metadata": {},
   "outputs": [],
   "source": []
  }
 ],
 "metadata": {
  "kernelspec": {
   "display_name": "Python 3 (ipykernel)",
   "language": "python",
   "name": "python3"
  },
  "language_info": {
   "codemirror_mode": {
    "name": "ipython",
    "version": 3
   },
   "file_extension": ".py",
   "mimetype": "text/x-python",
   "name": "python",
   "nbconvert_exporter": "python",
   "pygments_lexer": "ipython3",
   "version": "3.9.6"
  }
 },
 "nbformat": 4,
 "nbformat_minor": 5
}
