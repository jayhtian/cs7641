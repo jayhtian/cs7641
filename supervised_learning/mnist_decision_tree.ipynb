{
 "cells": [
  {
   "cell_type": "code",
   "execution_count": 32,
   "id": "79d47520",
   "metadata": {},
   "outputs": [],
   "source": [
    "import numpy as np\n",
    "from sklearn import preprocessing\n",
    "from tensorflow.keras.datasets import mnist\n",
    "from helpers import exp_range, plot_learning_curve, plot_validation_curve\n",
    "\n",
    "import pydotplus\n",
    "import pandas as pd\n",
    "import numpy as np\n",
    "from io import StringIO\n",
    "# from sklearn.externals.six import StringIO\n",
    "from sklearn.tree import DecisionTreeClassifier\n",
    "from sklearn.tree import export_graphviz\n",
    "from classes import BalancedUndersamplingShuffle, balanced_sampling\n",
    "from sklearn.metrics import check_scoring\n",
    "from sklearn.model_selection._validation import _fit_and_score\n",
    "from sklearn.model_selection import ShuffleSplit, StratifiedKFold\n",
    "from sklearn.model_selection import train_test_split\n",
    "\n",
    "from sklearn.metrics import fbeta_score, make_scorer\n"
   ]
  },
  {
   "cell_type": "code",
   "execution_count": 33,
   "id": "c489fa1d",
   "metadata": {},
   "outputs": [
    {
     "name": "stdout",
     "output_type": "stream",
     "text": [
      "Value without encoding: [6]\n",
      "Value with encoding: [0. 0. 0. 0. 0. 0. 1. 0. 0. 0.]\n"
     ]
    }
   ],
   "source": [
    "\n",
    "# Define the One-hot Encoder\n",
    "ohe = preprocessing.OneHotEncoder()\n",
    "\n",
    "# Load MNIST data\n",
    "(X_train, y_train), (X_test, y_test) = mnist.load_data()\n",
    "\n",
    "# Reshape data\n",
    "y_train = y_train.reshape(-1, 1)\n",
    "y_test = y_test.reshape(-1, 1)\n",
    "\n",
    "# # Fit and transform training data\n",
    "# ohe.fit(y_train)\n",
    "# y_train_ohe = ohe.transform(y_train).toarray()\n",
    "\n",
    "# # Fit and transform testing data\n",
    "# ohe.fit(y_test)\n",
    "# y_test_ohe = ohe.transform(y_test).toarray()\n",
    "\n",
    "# Print results\n",
    "print(f'Value without encoding: {y_test[123]}')\n",
    "print(f'Value with encoding: {transformed_test[123]}')"
   ]
  },
  {
   "cell_type": "code",
   "execution_count": 34,
   "id": "4bbb070f",
   "metadata": {
    "scrolled": false
   },
   "outputs": [
    {
     "name": "stdout",
     "output_type": "stream",
     "text": [
      "(60000, 784)\n",
      "(10000, 784)\n"
     ]
    }
   ],
   "source": [
    "X_train = X_train.reshape(X_train.shape[0], X_train.shape[1]*X_train.shape[2])\n",
    "X_test = X_test.reshape(X_test.shape[0], X_test.shape[1]*X_test.shape[2])\n",
    "print(X_train.shape)\n",
    "print(X_test.shape)"
   ]
  },
  {
   "cell_type": "code",
   "execution_count": 36,
   "id": "17bc83b6",
   "metadata": {},
   "outputs": [
    {
     "data": {
      "text/plain": [
       "0.8781"
      ]
     },
     "execution_count": 36,
     "metadata": {},
     "output_type": "execute_result"
    }
   ],
   "source": [
    "# Naive fit\n",
    "classifier = DecisionTreeClassifier(random_state=0, criterion='gini', max_depth=10)\n",
    "classifier.fit(X_train, y_train)\n",
    "classifier.score(X_test, y_test)\n",
    "\n"
   ]
  },
  {
   "cell_type": "markdown",
   "id": "555f66dc",
   "metadata": {},
   "source": [
    "# Validation Curves and tuning"
   ]
  },
  {
   "cell_type": "markdown",
   "id": "3634c142",
   "metadata": {},
   "source": [
    "### max_depth"
   ]
  },
  {
   "cell_type": "code",
   "execution_count": 38,
   "id": "d3b3b4a2",
   "metadata": {},
   "outputs": [],
   "source": [
    "max_depth_range = list(set(list(range(1, 11)) + list(exp_range(1, 20, increment=1, exp=1.5))))\n",
    "max_depth_range.sort()"
   ]
  },
  {
   "cell_type": "code",
   "execution_count": 40,
   "id": "c095a4fd",
   "metadata": {},
   "outputs": [
    {
     "data": {
      "image/png": "[encoded data removed]",
      "text/plain": [
       "<Figure size 432x288 with 1 Axes>"
      ]
     },
     "metadata": {
      "needs_background": "light"
     },
     "output_type": "display_data"
    }
   ],
   "source": [
    "# max_depth - accuracy\n",
    "\n",
    "scoring = 'accuracy'\n",
    "classifier = DecisionTreeClassifier(random_state=0, criterion='gini')\n",
    "cv = StratifiedKFold(n_splits=10, shuffle=True, random_state=0)\n",
    "train_scores_r, test_scores_r = plot_validation_curve(classifier, X_train, y_train, \n",
    "                      param_name='max_depth', param_range=max_depth_range,\n",
    "                      cv=cv, scoring=scoring, n_jobs=8)\n"
   ]
  },
  {
   "cell_type": "code",
   "execution_count": null,
   "id": "0ffb2307",
   "metadata": {},
   "outputs": [],
   "source": []
  }
 ],
 "metadata": {
  "kernelspec": {
   "display_name": "Python 3 (ipykernel)",
   "language": "python",
   "name": "python3"
  },
  "language_info": {
   "codemirror_mode": {
    "name": "ipython",
    "version": 3
   },
   "file_extension": ".py",
   "mimetype": "text/x-python",
   "name": "python",
   "nbconvert_exporter": "python",
   "pygments_lexer": "ipython3",
   "version": "3.9.6"
  }
 },
 "nbformat": 4,
 "nbformat_minor": 5
}
