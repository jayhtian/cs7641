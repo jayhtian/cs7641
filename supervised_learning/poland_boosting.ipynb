{
 "cells": [
  {
   "cell_type": "code",
   "execution_count": 7,
   "id": "322fc0d9",
   "metadata": {},
   "outputs": [],
   "source": [
    "import pandas as pd\n",
    "import numpy as np\n",
    "from io import StringIO\n",
    "from classes import BalancedUndersamplingShuffle, balanced_sampling\n",
    "from helpers import plot_learning_curve, plot_validation_curve, fit_and_score_pipeline, exp_range, \\\n",
    "    fit_and_score_iteratively, plot_validation_curve_with_undersampling\n",
    "from sklearn.model_selection import ShuffleSplit, StratifiedKFold\n",
    "from sklearn.metrics import check_scoring\n",
    "from sklearn.model_selection._validation import _fit_and_score\n",
    "from sklearn.model_selection import train_test_split\n",
    "from sklearn.pipeline import make_pipeline\n",
    "from sklearn.preprocessing import StandardScaler, LabelEncoder\n",
    "\n",
    "from sklearn.metrics import fbeta_score, make_scorer\n",
    "from sklearn.ensemble import AdaBoostClassifier"
   ]
  },
  {
   "cell_type": "code",
   "execution_count": 2,
   "id": "da91b93d",
   "metadata": {},
   "outputs": [
    {
     "name": "stdout",
     "output_type": "stream",
     "text": [
      "(7027, 65)\n",
      "(10173, 65)\n",
      "(10503, 65)\n",
      "(9792, 65)\n",
      "(5910, 65)\n"
     ]
    }
   ],
   "source": [
    "from scipy.io import arff\n",
    "\n",
    "with open('1year.arff','r') as f:\n",
    "    data1, meta1 = arff.loadarff(f)\n",
    "    data1 = np.asarray(data1.tolist(), dtype=np.float32)\n",
    "    print(data1.shape)\n",
    "\n",
    "with open('2year.arff','r') as f:\n",
    "    data2, meta2 = arff.loadarff(f)\n",
    "    data2 = np.asarray(data2.tolist(), dtype=np.float32)\n",
    "    print(data2.shape)\n",
    "\n",
    "with open('3year.arff','r') as f:\n",
    "    data3, meta3 = arff.loadarff(f)\n",
    "    data3 = np.asarray(data3.tolist(), dtype=np.float32)\n",
    "    print(data3.shape)\n",
    "\n",
    "with open('4year.arff','r') as f:\n",
    "    data4, meta4 = arff.loadarff(f)\n",
    "    data4 = np.asarray(data4.tolist(), dtype=np.float32)\n",
    "    print(data4.shape)\n",
    "\n",
    "with open('5year.arff','r') as f:\n",
    "    data5, meta5 = arff.loadarff(f)\n",
    "    data5 = np.asarray(data5.tolist(), dtype=np.float32)\n",
    "    print(data5.shape)\n"
   ]
  },
  {
   "cell_type": "code",
   "execution_count": 3,
   "id": "e9d22df0",
   "metadata": {},
   "outputs": [
    {
     "name": "stdout",
     "output_type": "stream",
     "text": [
      "X.shape=(43405, 64), y.shape=(43405,)\n"
     ]
    }
   ],
   "source": [
    "data = np.concatenate([data1, data2, data3, data4, data5], axis=0)\n",
    "data[np.isnan(data)] = 0\n",
    "\n",
    "X, y = data[:,:-1], data[:, -1]\n",
    "\n",
    "y[y == 0] = -1\n",
    "\n",
    "print(f'X.shape={X.shape}, y.shape={y.shape}')"
   ]
  },
  {
   "cell_type": "markdown",
   "id": "3870b7d1",
   "metadata": {},
   "source": [
    "# Naive fit"
   ]
  },
  {
   "cell_type": "code",
   "execution_count": 4,
   "id": "5dc94a26",
   "metadata": {},
   "outputs": [
    {
     "name": "stdout",
     "output_type": "stream",
     "text": [
      "[0.95346337 0.22506394 0.56774194 0.14035088 0.56747274]\n"
     ]
    }
   ],
   "source": [
    "# No undersampling\n",
    "classifier = AdaBoostClassifier(n_estimators=100, random_state=0)\n",
    "res = fit_and_score_iteratively(classifier, X, y, None, iterations=1)\n",
    "print(res)\n"
   ]
  },
  {
   "cell_type": "code",
   "execution_count": 5,
   "id": "65f83f27",
   "metadata": {},
   "outputs": [
    {
     "name": "stdout",
     "output_type": "stream",
     "text": [
      "a=0.0, r=1, gamma=19.758010521281683\n",
      "a=0.0, r=1, gamma=19.758010521281683\n",
      "a=0.0, r=1, gamma=19.758010521281683\n",
      "a=0.0, r=1, gamma=19.758010521281683\n",
      "a=0.0, r=1, gamma=19.758010521281683\n",
      "a=0.0, r=1, gamma=19.758010521281683\n",
      "a=0.0, r=1, gamma=19.758010521281683\n",
      "a=0.0, r=1, gamma=19.758010521281683\n",
      "a=0.0, r=1, gamma=19.758010521281683\n",
      "a=0.0, r=1, gamma=19.758010521281683\n",
      "[0.80119522 0.80207418 0.79794027 0.80637959 0.80119935]\n"
     ]
    }
   ],
   "source": [
    "# Undersampling to 1:1 and iteration 10x\n",
    "classifier = AdaBoostClassifier(n_estimators=100, random_state=0)\n",
    "res = fit_and_score_iteratively(classifier, X, y, 1, iterations=10)\n",
    "print(res)\n"
   ]
  },
  {
   "cell_type": "markdown",
   "id": "07f1bb76",
   "metadata": {},
   "source": [
    "# Model Tuning"
   ]
  },
  {
   "cell_type": "code",
   "execution_count": 8,
   "id": "9517e3ae",
   "metadata": {
    "scrolled": true
   },
   "outputs": [
    {
     "name": "stdout",
     "output_type": "stream",
     "text": [
      "param=1\n",
      "a=0.0, r=1, gamma=20.040858725761773\n",
      "a=0.0, r=1, gamma=20.040858725761773\n",
      "a=0.0, r=1, gamma=20.040858725761773\n",
      "a=0.0, r=1, gamma=20.040858725761773\n",
      "a=0.0, r=1, gamma=20.040858725761773\n",
      "param=25\n",
      "a=0.0, r=1, gamma=20.040858725761773\n",
      "a=0.0, r=1, gamma=20.040858725761773\n",
      "a=0.0, r=1, gamma=20.040858725761773\n",
      "a=0.0, r=1, gamma=20.040858725761773\n",
      "a=0.0, r=1, gamma=20.040858725761773\n",
      "param=81\n",
      "a=0.0, r=1, gamma=20.040858725761773\n",
      "a=0.0, r=1, gamma=20.040858725761773\n",
      "a=0.0, r=1, gamma=20.040858725761773\n",
      "a=0.0, r=1, gamma=20.040858725761773\n",
      "a=0.0, r=1, gamma=20.040858725761773\n",
      "param=169\n",
      "a=0.0, r=1, gamma=20.040858725761773\n",
      "a=0.0, r=1, gamma=20.040858725761773\n",
      "a=0.0, r=1, gamma=20.040858725761773\n",
      "a=0.0, r=1, gamma=20.040858725761773\n",
      "a=0.0, r=1, gamma=20.040858725761773\n",
      "param=289\n",
      "a=0.0, r=1, gamma=20.040858725761773\n",
      "a=0.0, r=1, gamma=20.040858725761773\n",
      "a=0.0, r=1, gamma=20.040858725761773\n",
      "a=0.0, r=1, gamma=20.040858725761773\n",
      "a=0.0, r=1, gamma=20.040858725761773\n",
      "param=441\n",
      "a=0.0, r=1, gamma=20.040858725761773\n",
      "a=0.0, r=1, gamma=20.040858725761773\n",
      "a=0.0, r=1, gamma=20.040858725761773\n",
      "a=0.0, r=1, gamma=20.040858725761773\n",
      "a=0.0, r=1, gamma=20.040858725761773\n",
      "param=625\n",
      "a=0.0, r=1, gamma=20.040858725761773\n",
      "a=0.0, r=1, gamma=20.040858725761773\n",
      "a=0.0, r=1, gamma=20.040858725761773\n",
      "a=0.0, r=1, gamma=20.040858725761773\n",
      "a=0.0, r=1, gamma=20.040858725761773\n",
      "param=841\n",
      "a=0.0, r=1, gamma=20.040858725761773\n",
      "a=0.0, r=1, gamma=20.040858725761773\n",
      "a=0.0, r=1, gamma=20.040858725761773\n",
      "a=0.0, r=1, gamma=20.040858725761773\n",
      "a=0.0, r=1, gamma=20.040858725761773\n",
      "param=1089\n",
      "a=0.0, r=1, gamma=20.040858725761773\n",
      "a=0.0, r=1, gamma=20.040858725761773\n",
      "a=0.0, r=1, gamma=20.040858725761773\n",
      "a=0.0, r=1, gamma=20.040858725761773\n",
      "a=0.0, r=1, gamma=20.040858725761773\n",
      "param=1369\n",
      "a=0.0, r=1, gamma=20.040858725761773\n",
      "a=0.0, r=1, gamma=20.040858725761773\n",
      "a=0.0, r=1, gamma=20.040858725761773\n",
      "a=0.0, r=1, gamma=20.040858725761773\n",
      "a=0.0, r=1, gamma=20.040858725761773\n",
      "param=1681\n",
      "a=0.0, r=1, gamma=20.040858725761773\n",
      "a=0.0, r=1, gamma=20.040858725761773\n",
      "a=0.0, r=1, gamma=20.040858725761773\n",
      "a=0.0, r=1, gamma=20.040858725761773\n",
      "a=0.0, r=1, gamma=20.040858725761773\n",
      "param=2025\n",
      "a=0.0, r=1, gamma=20.040858725761773\n",
      "a=0.0, r=1, gamma=20.040858725761773\n",
      "a=0.0, r=1, gamma=20.040858725761773\n",
      "a=0.0, r=1, gamma=20.040858725761773\n",
      "a=0.0, r=1, gamma=20.040858725761773\n",
      "param=2401\n",
      "a=0.0, r=1, gamma=20.040858725761773\n",
      "a=0.0, r=1, gamma=20.040858725761773\n",
      "a=0.0, r=1, gamma=20.040858725761773\n",
      "a=0.0, r=1, gamma=20.040858725761773\n",
      "a=0.0, r=1, gamma=20.040858725761773\n",
      "param=2809\n",
      "a=0.0, r=1, gamma=20.040858725761773\n",
      "a=0.0, r=1, gamma=20.040858725761773\n",
      "a=0.0, r=1, gamma=20.040858725761773\n",
      "a=0.0, r=1, gamma=20.040858725761773\n",
      "a=0.0, r=1, gamma=20.040858725761773\n",
      "param=3249\n",
      "a=0.0, r=1, gamma=20.040858725761773\n",
      "a=0.0, r=1, gamma=20.040858725761773\n",
      "a=0.0, r=1, gamma=20.040858725761773\n",
      "a=0.0, r=1, gamma=20.040858725761773\n",
      "a=0.0, r=1, gamma=20.040858725761773\n",
      "param=3721\n",
      "a=0.0, r=1, gamma=20.040858725761773\n",
      "a=0.0, r=1, gamma=20.040858725761773\n",
      "a=0.0, r=1, gamma=20.040858725761773\n",
      "a=0.0, r=1, gamma=20.040858725761773\n",
      "a=0.0, r=1, gamma=20.040858725761773\n",
      "param=4225\n",
      "a=0.0, r=1, gamma=20.040858725761773\n",
      "a=0.0, r=1, gamma=20.040858725761773\n",
      "a=0.0, r=1, gamma=20.040858725761773\n",
      "a=0.0, r=1, gamma=20.040858725761773\n",
      "a=0.0, r=1, gamma=20.040858725761773\n",
      "param=4761\n",
      "a=0.0, r=1, gamma=20.040858725761773\n",
      "a=0.0, r=1, gamma=20.040858725761773\n",
      "a=0.0, r=1, gamma=20.040858725761773\n",
      "a=0.0, r=1, gamma=20.040858725761773\n",
      "a=0.0, r=1, gamma=20.040858725761773\n",
      "param=5329\n",
      "a=0.0, r=1, gamma=20.040858725761773\n",
      "a=0.0, r=1, gamma=20.040858725761773\n",
      "a=0.0, r=1, gamma=20.040858725761773\n",
      "a=0.0, r=1, gamma=20.040858725761773\n",
      "a=0.0, r=1, gamma=20.040858725761773\n",
      "param=5929\n",
      "a=0.0, r=1, gamma=20.040858725761773\n",
      "a=0.0, r=1, gamma=20.040858725761773\n",
      "a=0.0, r=1, gamma=20.040858725761773\n",
      "a=0.0, r=1, gamma=20.040858725761773\n",
      "a=0.0, r=1, gamma=20.040858725761773\n",
      "param=6561\n",
      "a=0.0, r=1, gamma=20.040858725761773\n",
      "a=0.0, r=1, gamma=20.040858725761773\n",
      "a=0.0, r=1, gamma=20.040858725761773\n",
      "a=0.0, r=1, gamma=20.040858725761773\n",
      "a=0.0, r=1, gamma=20.040858725761773\n",
      "param=7225\n",
      "a=0.0, r=1, gamma=20.040858725761773\n",
      "a=0.0, r=1, gamma=20.040858725761773\n",
      "a=0.0, r=1, gamma=20.040858725761773\n",
      "a=0.0, r=1, gamma=20.040858725761773\n",
      "a=0.0, r=1, gamma=20.040858725761773\n",
      "param=7921\n",
      "a=0.0, r=1, gamma=20.040858725761773\n",
      "a=0.0, r=1, gamma=20.040858725761773\n",
      "a=0.0, r=1, gamma=20.040858725761773\n",
      "a=0.0, r=1, gamma=20.040858725761773\n",
      "a=0.0, r=1, gamma=20.040858725761773\n",
      "param=8649\n",
      "a=0.0, r=1, gamma=20.040858725761773\n",
      "a=0.0, r=1, gamma=20.040858725761773\n",
      "a=0.0, r=1, gamma=20.040858725761773\n",
      "a=0.0, r=1, gamma=20.040858725761773\n",
      "a=0.0, r=1, gamma=20.040858725761773\n",
      "param=9409\n",
      "a=0.0, r=1, gamma=20.040858725761773\n",
      "a=0.0, r=1, gamma=20.040858725761773\n",
      "a=0.0, r=1, gamma=20.040858725761773\n",
      "a=0.0, r=1, gamma=20.040858725761773\n",
      "a=0.0, r=1, gamma=20.040858725761773\n"
     ]
    },
    {
     "data": {
      "image/png": "[encoded data removed]",
      "text/plain": [
       "<Figure size 1440x360 with 4 Axes>"
      ]
     },
     "metadata": {
      "needs_background": "light"
     },
     "output_type": "display_data"
    }
   ],
   "source": [
    "# optimize number of weak classifiers\n",
    "\n",
    "X_train, X_test, y_train, y_test = train_test_split(X, y, test_size=0.3, random_state=42, stratify=y)\n",
    "\n",
    "param_range = list(exp_range(1, 100, 4, 2))\n",
    "X_train, X_test, y_train, y_test = train_test_split(X, y, test_size=0.3, random_state=42)\n",
    "scoring = ['accuracy', 'f1', 'recall', 'precision']\n",
    "cv = StratifiedKFold(n_splits=2, shuffle=True, random_state=0)\n",
    "\n",
    "classifier = AdaBoostClassifier(random_state=0)\n",
    "\n",
    "results_store, plt = plot_validation_curve_with_undersampling(classifier, X_train, y_train, \n",
    "                      param_name='n_estimators', param_range=param_range, fit_params=None, error_score='raise',\n",
    "                      cv=cv, scoring=scoring, n_jobs=8, iterations=5, undersampling_ratio=1, \n",
    "                      x_axis_is_log=True)\n"
   ]
  },
  {
   "cell_type": "code",
   "execution_count": null,
   "id": "72c35528",
   "metadata": {},
   "outputs": [],
   "source": [
    "# optimize number of weak classifiers\n",
    "param_range = list(exp_range(80, 100, 4, 2))\n",
    "\n",
    "scoring = 'recall'\n",
    "classifier = AdaBoostClassifier(random_state=0)\n",
    "cv = StratifiedKFold(n_splits=10, shuffle=True, random_state=0)\n",
    "\n",
    "train_scores_80_100, test_scores_80_100 = plot_validation_curve(classifier, X_train, y_train, \n",
    "                      param_name='n_estimators', param_range=param_range,\n",
    "                      cv=cv, scoring=scoring, n_jobs=8)"
   ]
  },
  {
   "cell_type": "code",
   "execution_count": null,
   "id": "bb3db175",
   "metadata": {},
   "outputs": [],
   "source": []
  },
  {
   "cell_type": "code",
   "execution_count": null,
   "id": "683977ec",
   "metadata": {},
   "outputs": [],
   "source": [
    "# optimize hidden_layer_sizes\n",
    "param_range = list(exp_range(10, 80, 4, 2))\n",
    "\n",
    "results = []\n",
    "scoring = 'f1'\n",
    "classifier = AdaBoostClassifier(random_state=0)\n",
    "cv = StratifiedKFold(n_splits=10, shuffle=True, random_state=0)\n",
    "\n",
    "train_scores, test_scores = plot_validation_curve(classifier, X_train, y_train, \n",
    "                      param_name='n_estimators', param_range=param_range,\n",
    "                      cv=cv, scoring=scoring, n_jobs=8)"
   ]
  },
  {
   "cell_type": "code",
   "execution_count": null,
   "id": "abc83308",
   "metadata": {},
   "outputs": [],
   "source": [
    "# optimize hidden_layer_sizes\n",
    "param_range = list(exp_range(80, 200, 5, 2))\n",
    "\n",
    "results = []\n",
    "scoring = 'recall'\n",
    "classifier = AdaBoostClassifier(random_state=0)\n",
    "cv = StratifiedKFold(n_splits=10, shuffle=True, random_state=0)\n",
    "\n",
    "train_scores, test_scores = plot_validation_curve(classifier, X_train, y_train, \n",
    "                      param_name='n_estimators', param_range=param_range,\n",
    "                      cv=cv, scoring=scoring, n_jobs=8)"
   ]
  },
  {
   "cell_type": "markdown",
   "id": "c2f4f447",
   "metadata": {},
   "source": [
    "# Learning Curve"
   ]
  },
  {
   "cell_type": "code",
   "execution_count": null,
   "id": "ef6be025",
   "metadata": {},
   "outputs": [],
   "source": [
    "classifier = AdaBoostClassifier(random_state=0, n_estimators=1000)\n",
    "\n",
    "cv = StratifiedKFold(n_splits=10, shuffle=True, random_state=0)\n",
    "title = 'Adaboost Learning Curve'\n",
    "plt = plot_learning_curve(classifier, title, X_train, y_train, axes=None, ylim=None, cv=cv,\n",
    "                            n_jobs=None, train_sizes=np.linspace(.1, 1.0, 10), scoring='recall')"
   ]
  },
  {
   "cell_type": "code",
   "execution_count": null,
   "id": "89f14497",
   "metadata": {},
   "outputs": [],
   "source": []
  }
 ],
 "metadata": {
  "kernelspec": {
   "display_name": "Python 3 (ipykernel)",
   "language": "python",
   "name": "python3"
  },
  "language_info": {
   "codemirror_mode": {
    "name": "ipython",
    "version": 3
   },
   "file_extension": ".py",
   "mimetype": "text/x-python",
   "name": "python",
   "nbconvert_exporter": "python",
   "pygments_lexer": "ipython3",
   "version": "3.9.6"
  }
 },
 "nbformat": 4,
 "nbformat_minor": 5
}
